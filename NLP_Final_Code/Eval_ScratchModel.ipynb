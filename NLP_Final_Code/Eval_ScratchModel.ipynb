{
  "nbformat": 4,
  "nbformat_minor": 0,
  "metadata": {
    "colab": {
      "provenance": []
    },
    "kernelspec": {
      "name": "python3",
      "display_name": "Python 3"
    },
    "language_info": {
      "name": "python"
    },
    "widgets": {
      "application/vnd.jupyter.widget-state+json": {
        "bd0084a538474b5883375793758bfa37": {
          "model_module": "@jupyter-widgets/controls",
          "model_name": "HBoxModel",
          "model_module_version": "1.5.0",
          "state": {
            "_dom_classes": [],
            "_model_module": "@jupyter-widgets/controls",
            "_model_module_version": "1.5.0",
            "_model_name": "HBoxModel",
            "_view_count": null,
            "_view_module": "@jupyter-widgets/controls",
            "_view_module_version": "1.5.0",
            "_view_name": "HBoxView",
            "box_style": "",
            "children": [
              "IPY_MODEL_a6119e00a10f4f13a409d19585fca8c8",
              "IPY_MODEL_936ac436c63840d3aee3db98d5467c51",
              "IPY_MODEL_fe165fc232b0471f9d600ba6f55e2ac2"
            ],
            "layout": "IPY_MODEL_bd920e453f9e41879e193e95fd2e7dae"
          }
        },
        "a6119e00a10f4f13a409d19585fca8c8": {
          "model_module": "@jupyter-widgets/controls",
          "model_name": "HTMLModel",
          "model_module_version": "1.5.0",
          "state": {
            "_dom_classes": [],
            "_model_module": "@jupyter-widgets/controls",
            "_model_module_version": "1.5.0",
            "_model_name": "HTMLModel",
            "_view_count": null,
            "_view_module": "@jupyter-widgets/controls",
            "_view_module_version": "1.5.0",
            "_view_name": "HTMLView",
            "description": "",
            "description_tooltip": null,
            "layout": "IPY_MODEL_c6ffff9e70be42d68d58fc4695b3ad13",
            "placeholder": "​",
            "style": "IPY_MODEL_a766fdacd2fe4cca94424a36313dd387",
            "value": "tokenizer_config.json: 100%"
          }
        },
        "936ac436c63840d3aee3db98d5467c51": {
          "model_module": "@jupyter-widgets/controls",
          "model_name": "FloatProgressModel",
          "model_module_version": "1.5.0",
          "state": {
            "_dom_classes": [],
            "_model_module": "@jupyter-widgets/controls",
            "_model_module_version": "1.5.0",
            "_model_name": "FloatProgressModel",
            "_view_count": null,
            "_view_module": "@jupyter-widgets/controls",
            "_view_module_version": "1.5.0",
            "_view_name": "ProgressView",
            "bar_style": "success",
            "description": "",
            "description_tooltip": null,
            "layout": "IPY_MODEL_8a000c23c92e499dacd825e125d53ae8",
            "max": 28,
            "min": 0,
            "orientation": "horizontal",
            "style": "IPY_MODEL_e45ca682235c42e1a3ffb72c9919c9b1",
            "value": 28
          }
        },
        "fe165fc232b0471f9d600ba6f55e2ac2": {
          "model_module": "@jupyter-widgets/controls",
          "model_name": "HTMLModel",
          "model_module_version": "1.5.0",
          "state": {
            "_dom_classes": [],
            "_model_module": "@jupyter-widgets/controls",
            "_model_module_version": "1.5.0",
            "_model_name": "HTMLModel",
            "_view_count": null,
            "_view_module": "@jupyter-widgets/controls",
            "_view_module_version": "1.5.0",
            "_view_name": "HTMLView",
            "description": "",
            "description_tooltip": null,
            "layout": "IPY_MODEL_716cee6d9b424b74b19a12168248c69e",
            "placeholder": "​",
            "style": "IPY_MODEL_c37708fb17a84336929c2041604b7235",
            "value": " 28.0/28.0 [00:00&lt;00:00, 423B/s]"
          }
        },
        "bd920e453f9e41879e193e95fd2e7dae": {
          "model_module": "@jupyter-widgets/base",
          "model_name": "LayoutModel",
          "model_module_version": "1.2.0",
          "state": {
            "_model_module": "@jupyter-widgets/base",
            "_model_module_version": "1.2.0",
            "_model_name": "LayoutModel",
            "_view_count": null,
            "_view_module": "@jupyter-widgets/base",
            "_view_module_version": "1.2.0",
            "_view_name": "LayoutView",
            "align_content": null,
            "align_items": null,
            "align_self": null,
            "border": null,
            "bottom": null,
            "display": null,
            "flex": null,
            "flex_flow": null,
            "grid_area": null,
            "grid_auto_columns": null,
            "grid_auto_flow": null,
            "grid_auto_rows": null,
            "grid_column": null,
            "grid_gap": null,
            "grid_row": null,
            "grid_template_areas": null,
            "grid_template_columns": null,
            "grid_template_rows": null,
            "height": null,
            "justify_content": null,
            "justify_items": null,
            "left": null,
            "margin": null,
            "max_height": null,
            "max_width": null,
            "min_height": null,
            "min_width": null,
            "object_fit": null,
            "object_position": null,
            "order": null,
            "overflow": null,
            "overflow_x": null,
            "overflow_y": null,
            "padding": null,
            "right": null,
            "top": null,
            "visibility": null,
            "width": null
          }
        },
        "c6ffff9e70be42d68d58fc4695b3ad13": {
          "model_module": "@jupyter-widgets/base",
          "model_name": "LayoutModel",
          "model_module_version": "1.2.0",
          "state": {
            "_model_module": "@jupyter-widgets/base",
            "_model_module_version": "1.2.0",
            "_model_name": "LayoutModel",
            "_view_count": null,
            "_view_module": "@jupyter-widgets/base",
            "_view_module_version": "1.2.0",
            "_view_name": "LayoutView",
            "align_content": null,
            "align_items": null,
            "align_self": null,
            "border": null,
            "bottom": null,
            "display": null,
            "flex": null,
            "flex_flow": null,
            "grid_area": null,
            "grid_auto_columns": null,
            "grid_auto_flow": null,
            "grid_auto_rows": null,
            "grid_column": null,
            "grid_gap": null,
            "grid_row": null,
            "grid_template_areas": null,
            "grid_template_columns": null,
            "grid_template_rows": null,
            "height": null,
            "justify_content": null,
            "justify_items": null,
            "left": null,
            "margin": null,
            "max_height": null,
            "max_width": null,
            "min_height": null,
            "min_width": null,
            "object_fit": null,
            "object_position": null,
            "order": null,
            "overflow": null,
            "overflow_x": null,
            "overflow_y": null,
            "padding": null,
            "right": null,
            "top": null,
            "visibility": null,
            "width": null
          }
        },
        "a766fdacd2fe4cca94424a36313dd387": {
          "model_module": "@jupyter-widgets/controls",
          "model_name": "DescriptionStyleModel",
          "model_module_version": "1.5.0",
          "state": {
            "_model_module": "@jupyter-widgets/controls",
            "_model_module_version": "1.5.0",
            "_model_name": "DescriptionStyleModel",
            "_view_count": null,
            "_view_module": "@jupyter-widgets/base",
            "_view_module_version": "1.2.0",
            "_view_name": "StyleView",
            "description_width": ""
          }
        },
        "8a000c23c92e499dacd825e125d53ae8": {
          "model_module": "@jupyter-widgets/base",
          "model_name": "LayoutModel",
          "model_module_version": "1.2.0",
          "state": {
            "_model_module": "@jupyter-widgets/base",
            "_model_module_version": "1.2.0",
            "_model_name": "LayoutModel",
            "_view_count": null,
            "_view_module": "@jupyter-widgets/base",
            "_view_module_version": "1.2.0",
            "_view_name": "LayoutView",
            "align_content": null,
            "align_items": null,
            "align_self": null,
            "border": null,
            "bottom": null,
            "display": null,
            "flex": null,
            "flex_flow": null,
            "grid_area": null,
            "grid_auto_columns": null,
            "grid_auto_flow": null,
            "grid_auto_rows": null,
            "grid_column": null,
            "grid_gap": null,
            "grid_row": null,
            "grid_template_areas": null,
            "grid_template_columns": null,
            "grid_template_rows": null,
            "height": null,
            "justify_content": null,
            "justify_items": null,
            "left": null,
            "margin": null,
            "max_height": null,
            "max_width": null,
            "min_height": null,
            "min_width": null,
            "object_fit": null,
            "object_position": null,
            "order": null,
            "overflow": null,
            "overflow_x": null,
            "overflow_y": null,
            "padding": null,
            "right": null,
            "top": null,
            "visibility": null,
            "width": null
          }
        },
        "e45ca682235c42e1a3ffb72c9919c9b1": {
          "model_module": "@jupyter-widgets/controls",
          "model_name": "ProgressStyleModel",
          "model_module_version": "1.5.0",
          "state": {
            "_model_module": "@jupyter-widgets/controls",
            "_model_module_version": "1.5.0",
            "_model_name": "ProgressStyleModel",
            "_view_count": null,
            "_view_module": "@jupyter-widgets/base",
            "_view_module_version": "1.2.0",
            "_view_name": "StyleView",
            "bar_color": null,
            "description_width": ""
          }
        },
        "716cee6d9b424b74b19a12168248c69e": {
          "model_module": "@jupyter-widgets/base",
          "model_name": "LayoutModel",
          "model_module_version": "1.2.0",
          "state": {
            "_model_module": "@jupyter-widgets/base",
            "_model_module_version": "1.2.0",
            "_model_name": "LayoutModel",
            "_view_count": null,
            "_view_module": "@jupyter-widgets/base",
            "_view_module_version": "1.2.0",
            "_view_name": "LayoutView",
            "align_content": null,
            "align_items": null,
            "align_self": null,
            "border": null,
            "bottom": null,
            "display": null,
            "flex": null,
            "flex_flow": null,
            "grid_area": null,
            "grid_auto_columns": null,
            "grid_auto_flow": null,
            "grid_auto_rows": null,
            "grid_column": null,
            "grid_gap": null,
            "grid_row": null,
            "grid_template_areas": null,
            "grid_template_columns": null,
            "grid_template_rows": null,
            "height": null,
            "justify_content": null,
            "justify_items": null,
            "left": null,
            "margin": null,
            "max_height": null,
            "max_width": null,
            "min_height": null,
            "min_width": null,
            "object_fit": null,
            "object_position": null,
            "order": null,
            "overflow": null,
            "overflow_x": null,
            "overflow_y": null,
            "padding": null,
            "right": null,
            "top": null,
            "visibility": null,
            "width": null
          }
        },
        "c37708fb17a84336929c2041604b7235": {
          "model_module": "@jupyter-widgets/controls",
          "model_name": "DescriptionStyleModel",
          "model_module_version": "1.5.0",
          "state": {
            "_model_module": "@jupyter-widgets/controls",
            "_model_module_version": "1.5.0",
            "_model_name": "DescriptionStyleModel",
            "_view_count": null,
            "_view_module": "@jupyter-widgets/base",
            "_view_module_version": "1.2.0",
            "_view_name": "StyleView",
            "description_width": ""
          }
        },
        "c36e32a043764412a3a48c19e501ec32": {
          "model_module": "@jupyter-widgets/controls",
          "model_name": "HBoxModel",
          "model_module_version": "1.5.0",
          "state": {
            "_dom_classes": [],
            "_model_module": "@jupyter-widgets/controls",
            "_model_module_version": "1.5.0",
            "_model_name": "HBoxModel",
            "_view_count": null,
            "_view_module": "@jupyter-widgets/controls",
            "_view_module_version": "1.5.0",
            "_view_name": "HBoxView",
            "box_style": "",
            "children": [
              "IPY_MODEL_6c55cfb125c148d4b6c2ded2d01b0beb",
              "IPY_MODEL_ad906dcfbc0f40ddac0713139ead345c",
              "IPY_MODEL_992f4b58642d451cac79c2ac25ba4b6c"
            ],
            "layout": "IPY_MODEL_96917acdbfd1445fbc5db07b69f6aea4"
          }
        },
        "6c55cfb125c148d4b6c2ded2d01b0beb": {
          "model_module": "@jupyter-widgets/controls",
          "model_name": "HTMLModel",
          "model_module_version": "1.5.0",
          "state": {
            "_dom_classes": [],
            "_model_module": "@jupyter-widgets/controls",
            "_model_module_version": "1.5.0",
            "_model_name": "HTMLModel",
            "_view_count": null,
            "_view_module": "@jupyter-widgets/controls",
            "_view_module_version": "1.5.0",
            "_view_name": "HTMLView",
            "description": "",
            "description_tooltip": null,
            "layout": "IPY_MODEL_37978f398bef4c0bba707dcb07dd4d2b",
            "placeholder": "​",
            "style": "IPY_MODEL_adca715bea45450fa7202a09aa384349",
            "value": "config.json: 100%"
          }
        },
        "ad906dcfbc0f40ddac0713139ead345c": {
          "model_module": "@jupyter-widgets/controls",
          "model_name": "FloatProgressModel",
          "model_module_version": "1.5.0",
          "state": {
            "_dom_classes": [],
            "_model_module": "@jupyter-widgets/controls",
            "_model_module_version": "1.5.0",
            "_model_name": "FloatProgressModel",
            "_view_count": null,
            "_view_module": "@jupyter-widgets/controls",
            "_view_module_version": "1.5.0",
            "_view_name": "ProgressView",
            "bar_style": "success",
            "description": "",
            "description_tooltip": null,
            "layout": "IPY_MODEL_17cc22f740164b938853b3162bc4c9b8",
            "max": 570,
            "min": 0,
            "orientation": "horizontal",
            "style": "IPY_MODEL_02f71c7fbcb749c594638ee3dd0fb672",
            "value": 570
          }
        },
        "992f4b58642d451cac79c2ac25ba4b6c": {
          "model_module": "@jupyter-widgets/controls",
          "model_name": "HTMLModel",
          "model_module_version": "1.5.0",
          "state": {
            "_dom_classes": [],
            "_model_module": "@jupyter-widgets/controls",
            "_model_module_version": "1.5.0",
            "_model_name": "HTMLModel",
            "_view_count": null,
            "_view_module": "@jupyter-widgets/controls",
            "_view_module_version": "1.5.0",
            "_view_name": "HTMLView",
            "description": "",
            "description_tooltip": null,
            "layout": "IPY_MODEL_fbee03110a704b37aa2c7ff8fa7b54df",
            "placeholder": "​",
            "style": "IPY_MODEL_9367ad26b37d4e0dba5177ffeb134629",
            "value": " 570/570 [00:00&lt;00:00, 5.99kB/s]"
          }
        },
        "96917acdbfd1445fbc5db07b69f6aea4": {
          "model_module": "@jupyter-widgets/base",
          "model_name": "LayoutModel",
          "model_module_version": "1.2.0",
          "state": {
            "_model_module": "@jupyter-widgets/base",
            "_model_module_version": "1.2.0",
            "_model_name": "LayoutModel",
            "_view_count": null,
            "_view_module": "@jupyter-widgets/base",
            "_view_module_version": "1.2.0",
            "_view_name": "LayoutView",
            "align_content": null,
            "align_items": null,
            "align_self": null,
            "border": null,
            "bottom": null,
            "display": null,
            "flex": null,
            "flex_flow": null,
            "grid_area": null,
            "grid_auto_columns": null,
            "grid_auto_flow": null,
            "grid_auto_rows": null,
            "grid_column": null,
            "grid_gap": null,
            "grid_row": null,
            "grid_template_areas": null,
            "grid_template_columns": null,
            "grid_template_rows": null,
            "height": null,
            "justify_content": null,
            "justify_items": null,
            "left": null,
            "margin": null,
            "max_height": null,
            "max_width": null,
            "min_height": null,
            "min_width": null,
            "object_fit": null,
            "object_position": null,
            "order": null,
            "overflow": null,
            "overflow_x": null,
            "overflow_y": null,
            "padding": null,
            "right": null,
            "top": null,
            "visibility": null,
            "width": null
          }
        },
        "37978f398bef4c0bba707dcb07dd4d2b": {
          "model_module": "@jupyter-widgets/base",
          "model_name": "LayoutModel",
          "model_module_version": "1.2.0",
          "state": {
            "_model_module": "@jupyter-widgets/base",
            "_model_module_version": "1.2.0",
            "_model_name": "LayoutModel",
            "_view_count": null,
            "_view_module": "@jupyter-widgets/base",
            "_view_module_version": "1.2.0",
            "_view_name": "LayoutView",
            "align_content": null,
            "align_items": null,
            "align_self": null,
            "border": null,
            "bottom": null,
            "display": null,
            "flex": null,
            "flex_flow": null,
            "grid_area": null,
            "grid_auto_columns": null,
            "grid_auto_flow": null,
            "grid_auto_rows": null,
            "grid_column": null,
            "grid_gap": null,
            "grid_row": null,
            "grid_template_areas": null,
            "grid_template_columns": null,
            "grid_template_rows": null,
            "height": null,
            "justify_content": null,
            "justify_items": null,
            "left": null,
            "margin": null,
            "max_height": null,
            "max_width": null,
            "min_height": null,
            "min_width": null,
            "object_fit": null,
            "object_position": null,
            "order": null,
            "overflow": null,
            "overflow_x": null,
            "overflow_y": null,
            "padding": null,
            "right": null,
            "top": null,
            "visibility": null,
            "width": null
          }
        },
        "adca715bea45450fa7202a09aa384349": {
          "model_module": "@jupyter-widgets/controls",
          "model_name": "DescriptionStyleModel",
          "model_module_version": "1.5.0",
          "state": {
            "_model_module": "@jupyter-widgets/controls",
            "_model_module_version": "1.5.0",
            "_model_name": "DescriptionStyleModel",
            "_view_count": null,
            "_view_module": "@jupyter-widgets/base",
            "_view_module_version": "1.2.0",
            "_view_name": "StyleView",
            "description_width": ""
          }
        },
        "17cc22f740164b938853b3162bc4c9b8": {
          "model_module": "@jupyter-widgets/base",
          "model_name": "LayoutModel",
          "model_module_version": "1.2.0",
          "state": {
            "_model_module": "@jupyter-widgets/base",
            "_model_module_version": "1.2.0",
            "_model_name": "LayoutModel",
            "_view_count": null,
            "_view_module": "@jupyter-widgets/base",
            "_view_module_version": "1.2.0",
            "_view_name": "LayoutView",
            "align_content": null,
            "align_items": null,
            "align_self": null,
            "border": null,
            "bottom": null,
            "display": null,
            "flex": null,
            "flex_flow": null,
            "grid_area": null,
            "grid_auto_columns": null,
            "grid_auto_flow": null,
            "grid_auto_rows": null,
            "grid_column": null,
            "grid_gap": null,
            "grid_row": null,
            "grid_template_areas": null,
            "grid_template_columns": null,
            "grid_template_rows": null,
            "height": null,
            "justify_content": null,
            "justify_items": null,
            "left": null,
            "margin": null,
            "max_height": null,
            "max_width": null,
            "min_height": null,
            "min_width": null,
            "object_fit": null,
            "object_position": null,
            "order": null,
            "overflow": null,
            "overflow_x": null,
            "overflow_y": null,
            "padding": null,
            "right": null,
            "top": null,
            "visibility": null,
            "width": null
          }
        },
        "02f71c7fbcb749c594638ee3dd0fb672": {
          "model_module": "@jupyter-widgets/controls",
          "model_name": "ProgressStyleModel",
          "model_module_version": "1.5.0",
          "state": {
            "_model_module": "@jupyter-widgets/controls",
            "_model_module_version": "1.5.0",
            "_model_name": "ProgressStyleModel",
            "_view_count": null,
            "_view_module": "@jupyter-widgets/base",
            "_view_module_version": "1.2.0",
            "_view_name": "StyleView",
            "bar_color": null,
            "description_width": ""
          }
        },
        "fbee03110a704b37aa2c7ff8fa7b54df": {
          "model_module": "@jupyter-widgets/base",
          "model_name": "LayoutModel",
          "model_module_version": "1.2.0",
          "state": {
            "_model_module": "@jupyter-widgets/base",
            "_model_module_version": "1.2.0",
            "_model_name": "LayoutModel",
            "_view_count": null,
            "_view_module": "@jupyter-widgets/base",
            "_view_module_version": "1.2.0",
            "_view_name": "LayoutView",
            "align_content": null,
            "align_items": null,
            "align_self": null,
            "border": null,
            "bottom": null,
            "display": null,
            "flex": null,
            "flex_flow": null,
            "grid_area": null,
            "grid_auto_columns": null,
            "grid_auto_flow": null,
            "grid_auto_rows": null,
            "grid_column": null,
            "grid_gap": null,
            "grid_row": null,
            "grid_template_areas": null,
            "grid_template_columns": null,
            "grid_template_rows": null,
            "height": null,
            "justify_content": null,
            "justify_items": null,
            "left": null,
            "margin": null,
            "max_height": null,
            "max_width": null,
            "min_height": null,
            "min_width": null,
            "object_fit": null,
            "object_position": null,
            "order": null,
            "overflow": null,
            "overflow_x": null,
            "overflow_y": null,
            "padding": null,
            "right": null,
            "top": null,
            "visibility": null,
            "width": null
          }
        },
        "9367ad26b37d4e0dba5177ffeb134629": {
          "model_module": "@jupyter-widgets/controls",
          "model_name": "DescriptionStyleModel",
          "model_module_version": "1.5.0",
          "state": {
            "_model_module": "@jupyter-widgets/controls",
            "_model_module_version": "1.5.0",
            "_model_name": "DescriptionStyleModel",
            "_view_count": null,
            "_view_module": "@jupyter-widgets/base",
            "_view_module_version": "1.2.0",
            "_view_name": "StyleView",
            "description_width": ""
          }
        },
        "c9cae16d2adc465196cbf16846d047d2": {
          "model_module": "@jupyter-widgets/controls",
          "model_name": "HBoxModel",
          "model_module_version": "1.5.0",
          "state": {
            "_dom_classes": [],
            "_model_module": "@jupyter-widgets/controls",
            "_model_module_version": "1.5.0",
            "_model_name": "HBoxModel",
            "_view_count": null,
            "_view_module": "@jupyter-widgets/controls",
            "_view_module_version": "1.5.0",
            "_view_name": "HBoxView",
            "box_style": "",
            "children": [
              "IPY_MODEL_29cb89e2af9345a7ace972001385259f",
              "IPY_MODEL_6ba0e93aeec149ab9fed098aa8fafe69",
              "IPY_MODEL_a2aabc03a3224ed89982e6a074fe0cc5"
            ],
            "layout": "IPY_MODEL_c04432f0632443d0b126b9209f82e486"
          }
        },
        "29cb89e2af9345a7ace972001385259f": {
          "model_module": "@jupyter-widgets/controls",
          "model_name": "HTMLModel",
          "model_module_version": "1.5.0",
          "state": {
            "_dom_classes": [],
            "_model_module": "@jupyter-widgets/controls",
            "_model_module_version": "1.5.0",
            "_model_name": "HTMLModel",
            "_view_count": null,
            "_view_module": "@jupyter-widgets/controls",
            "_view_module_version": "1.5.0",
            "_view_name": "HTMLView",
            "description": "",
            "description_tooltip": null,
            "layout": "IPY_MODEL_de32043ca91c40ae9b12e3760ed87dc2",
            "placeholder": "​",
            "style": "IPY_MODEL_c1018d915549454087dcc63e1a2c0946",
            "value": "vocab.txt: 100%"
          }
        },
        "6ba0e93aeec149ab9fed098aa8fafe69": {
          "model_module": "@jupyter-widgets/controls",
          "model_name": "FloatProgressModel",
          "model_module_version": "1.5.0",
          "state": {
            "_dom_classes": [],
            "_model_module": "@jupyter-widgets/controls",
            "_model_module_version": "1.5.0",
            "_model_name": "FloatProgressModel",
            "_view_count": null,
            "_view_module": "@jupyter-widgets/controls",
            "_view_module_version": "1.5.0",
            "_view_name": "ProgressView",
            "bar_style": "success",
            "description": "",
            "description_tooltip": null,
            "layout": "IPY_MODEL_11c88d25fd9c42be88c1aa833bb66837",
            "max": 231508,
            "min": 0,
            "orientation": "horizontal",
            "style": "IPY_MODEL_ab2906c59d724189bb0cdd98627920c3",
            "value": 231508
          }
        },
        "a2aabc03a3224ed89982e6a074fe0cc5": {
          "model_module": "@jupyter-widgets/controls",
          "model_name": "HTMLModel",
          "model_module_version": "1.5.0",
          "state": {
            "_dom_classes": [],
            "_model_module": "@jupyter-widgets/controls",
            "_model_module_version": "1.5.0",
            "_model_name": "HTMLModel",
            "_view_count": null,
            "_view_module": "@jupyter-widgets/controls",
            "_view_module_version": "1.5.0",
            "_view_name": "HTMLView",
            "description": "",
            "description_tooltip": null,
            "layout": "IPY_MODEL_f6315bff643640dab73f5df87fe98a4f",
            "placeholder": "​",
            "style": "IPY_MODEL_c942aae96e434f89a4bbf48f870f147a",
            "value": " 232k/232k [00:00&lt;00:00, 2.77MB/s]"
          }
        },
        "c04432f0632443d0b126b9209f82e486": {
          "model_module": "@jupyter-widgets/base",
          "model_name": "LayoutModel",
          "model_module_version": "1.2.0",
          "state": {
            "_model_module": "@jupyter-widgets/base",
            "_model_module_version": "1.2.0",
            "_model_name": "LayoutModel",
            "_view_count": null,
            "_view_module": "@jupyter-widgets/base",
            "_view_module_version": "1.2.0",
            "_view_name": "LayoutView",
            "align_content": null,
            "align_items": null,
            "align_self": null,
            "border": null,
            "bottom": null,
            "display": null,
            "flex": null,
            "flex_flow": null,
            "grid_area": null,
            "grid_auto_columns": null,
            "grid_auto_flow": null,
            "grid_auto_rows": null,
            "grid_column": null,
            "grid_gap": null,
            "grid_row": null,
            "grid_template_areas": null,
            "grid_template_columns": null,
            "grid_template_rows": null,
            "height": null,
            "justify_content": null,
            "justify_items": null,
            "left": null,
            "margin": null,
            "max_height": null,
            "max_width": null,
            "min_height": null,
            "min_width": null,
            "object_fit": null,
            "object_position": null,
            "order": null,
            "overflow": null,
            "overflow_x": null,
            "overflow_y": null,
            "padding": null,
            "right": null,
            "top": null,
            "visibility": null,
            "width": null
          }
        },
        "de32043ca91c40ae9b12e3760ed87dc2": {
          "model_module": "@jupyter-widgets/base",
          "model_name": "LayoutModel",
          "model_module_version": "1.2.0",
          "state": {
            "_model_module": "@jupyter-widgets/base",
            "_model_module_version": "1.2.0",
            "_model_name": "LayoutModel",
            "_view_count": null,
            "_view_module": "@jupyter-widgets/base",
            "_view_module_version": "1.2.0",
            "_view_name": "LayoutView",
            "align_content": null,
            "align_items": null,
            "align_self": null,
            "border": null,
            "bottom": null,
            "display": null,
            "flex": null,
            "flex_flow": null,
            "grid_area": null,
            "grid_auto_columns": null,
            "grid_auto_flow": null,
            "grid_auto_rows": null,
            "grid_column": null,
            "grid_gap": null,
            "grid_row": null,
            "grid_template_areas": null,
            "grid_template_columns": null,
            "grid_template_rows": null,
            "height": null,
            "justify_content": null,
            "justify_items": null,
            "left": null,
            "margin": null,
            "max_height": null,
            "max_width": null,
            "min_height": null,
            "min_width": null,
            "object_fit": null,
            "object_position": null,
            "order": null,
            "overflow": null,
            "overflow_x": null,
            "overflow_y": null,
            "padding": null,
            "right": null,
            "top": null,
            "visibility": null,
            "width": null
          }
        },
        "c1018d915549454087dcc63e1a2c0946": {
          "model_module": "@jupyter-widgets/controls",
          "model_name": "DescriptionStyleModel",
          "model_module_version": "1.5.0",
          "state": {
            "_model_module": "@jupyter-widgets/controls",
            "_model_module_version": "1.5.0",
            "_model_name": "DescriptionStyleModel",
            "_view_count": null,
            "_view_module": "@jupyter-widgets/base",
            "_view_module_version": "1.2.0",
            "_view_name": "StyleView",
            "description_width": ""
          }
        },
        "11c88d25fd9c42be88c1aa833bb66837": {
          "model_module": "@jupyter-widgets/base",
          "model_name": "LayoutModel",
          "model_module_version": "1.2.0",
          "state": {
            "_model_module": "@jupyter-widgets/base",
            "_model_module_version": "1.2.0",
            "_model_name": "LayoutModel",
            "_view_count": null,
            "_view_module": "@jupyter-widgets/base",
            "_view_module_version": "1.2.0",
            "_view_name": "LayoutView",
            "align_content": null,
            "align_items": null,
            "align_self": null,
            "border": null,
            "bottom": null,
            "display": null,
            "flex": null,
            "flex_flow": null,
            "grid_area": null,
            "grid_auto_columns": null,
            "grid_auto_flow": null,
            "grid_auto_rows": null,
            "grid_column": null,
            "grid_gap": null,
            "grid_row": null,
            "grid_template_areas": null,
            "grid_template_columns": null,
            "grid_template_rows": null,
            "height": null,
            "justify_content": null,
            "justify_items": null,
            "left": null,
            "margin": null,
            "max_height": null,
            "max_width": null,
            "min_height": null,
            "min_width": null,
            "object_fit": null,
            "object_position": null,
            "order": null,
            "overflow": null,
            "overflow_x": null,
            "overflow_y": null,
            "padding": null,
            "right": null,
            "top": null,
            "visibility": null,
            "width": null
          }
        },
        "ab2906c59d724189bb0cdd98627920c3": {
          "model_module": "@jupyter-widgets/controls",
          "model_name": "ProgressStyleModel",
          "model_module_version": "1.5.0",
          "state": {
            "_model_module": "@jupyter-widgets/controls",
            "_model_module_version": "1.5.0",
            "_model_name": "ProgressStyleModel",
            "_view_count": null,
            "_view_module": "@jupyter-widgets/base",
            "_view_module_version": "1.2.0",
            "_view_name": "StyleView",
            "bar_color": null,
            "description_width": ""
          }
        },
        "f6315bff643640dab73f5df87fe98a4f": {
          "model_module": "@jupyter-widgets/base",
          "model_name": "LayoutModel",
          "model_module_version": "1.2.0",
          "state": {
            "_model_module": "@jupyter-widgets/base",
            "_model_module_version": "1.2.0",
            "_model_name": "LayoutModel",
            "_view_count": null,
            "_view_module": "@jupyter-widgets/base",
            "_view_module_version": "1.2.0",
            "_view_name": "LayoutView",
            "align_content": null,
            "align_items": null,
            "align_self": null,
            "border": null,
            "bottom": null,
            "display": null,
            "flex": null,
            "flex_flow": null,
            "grid_area": null,
            "grid_auto_columns": null,
            "grid_auto_flow": null,
            "grid_auto_rows": null,
            "grid_column": null,
            "grid_gap": null,
            "grid_row": null,
            "grid_template_areas": null,
            "grid_template_columns": null,
            "grid_template_rows": null,
            "height": null,
            "justify_content": null,
            "justify_items": null,
            "left": null,
            "margin": null,
            "max_height": null,
            "max_width": null,
            "min_height": null,
            "min_width": null,
            "object_fit": null,
            "object_position": null,
            "order": null,
            "overflow": null,
            "overflow_x": null,
            "overflow_y": null,
            "padding": null,
            "right": null,
            "top": null,
            "visibility": null,
            "width": null
          }
        },
        "c942aae96e434f89a4bbf48f870f147a": {
          "model_module": "@jupyter-widgets/controls",
          "model_name": "DescriptionStyleModel",
          "model_module_version": "1.5.0",
          "state": {
            "_model_module": "@jupyter-widgets/controls",
            "_model_module_version": "1.5.0",
            "_model_name": "DescriptionStyleModel",
            "_view_count": null,
            "_view_module": "@jupyter-widgets/base",
            "_view_module_version": "1.2.0",
            "_view_name": "StyleView",
            "description_width": ""
          }
        },
        "51197b0d88ad4b738c801875f0ba247b": {
          "model_module": "@jupyter-widgets/controls",
          "model_name": "HBoxModel",
          "model_module_version": "1.5.0",
          "state": {
            "_dom_classes": [],
            "_model_module": "@jupyter-widgets/controls",
            "_model_module_version": "1.5.0",
            "_model_name": "HBoxModel",
            "_view_count": null,
            "_view_module": "@jupyter-widgets/controls",
            "_view_module_version": "1.5.0",
            "_view_name": "HBoxView",
            "box_style": "",
            "children": [
              "IPY_MODEL_23d94bc7c3234f19922c25360ce90d18",
              "IPY_MODEL_c7c0df7cdd504a7088686b1c9d34b66c",
              "IPY_MODEL_6a7dae5faea342bd8331e036d8444c01"
            ],
            "layout": "IPY_MODEL_4f4b2bc5789c4ef882f0180c2fa4a7b4"
          }
        },
        "23d94bc7c3234f19922c25360ce90d18": {
          "model_module": "@jupyter-widgets/controls",
          "model_name": "HTMLModel",
          "model_module_version": "1.5.0",
          "state": {
            "_dom_classes": [],
            "_model_module": "@jupyter-widgets/controls",
            "_model_module_version": "1.5.0",
            "_model_name": "HTMLModel",
            "_view_count": null,
            "_view_module": "@jupyter-widgets/controls",
            "_view_module_version": "1.5.0",
            "_view_name": "HTMLView",
            "description": "",
            "description_tooltip": null,
            "layout": "IPY_MODEL_b98261c04c904b0d85ebaca0d991e46b",
            "placeholder": "​",
            "style": "IPY_MODEL_bfd6cdc6c7f84232b5ec1f082d7e34f3",
            "value": "tokenizer.json: 100%"
          }
        },
        "c7c0df7cdd504a7088686b1c9d34b66c": {
          "model_module": "@jupyter-widgets/controls",
          "model_name": "FloatProgressModel",
          "model_module_version": "1.5.0",
          "state": {
            "_dom_classes": [],
            "_model_module": "@jupyter-widgets/controls",
            "_model_module_version": "1.5.0",
            "_model_name": "FloatProgressModel",
            "_view_count": null,
            "_view_module": "@jupyter-widgets/controls",
            "_view_module_version": "1.5.0",
            "_view_name": "ProgressView",
            "bar_style": "success",
            "description": "",
            "description_tooltip": null,
            "layout": "IPY_MODEL_e907b032fb7d44dfab1ccd6984cbffac",
            "max": 466062,
            "min": 0,
            "orientation": "horizontal",
            "style": "IPY_MODEL_da6cf0e09e43494b8081572965d19430",
            "value": 466062
          }
        },
        "6a7dae5faea342bd8331e036d8444c01": {
          "model_module": "@jupyter-widgets/controls",
          "model_name": "HTMLModel",
          "model_module_version": "1.5.0",
          "state": {
            "_dom_classes": [],
            "_model_module": "@jupyter-widgets/controls",
            "_model_module_version": "1.5.0",
            "_model_name": "HTMLModel",
            "_view_count": null,
            "_view_module": "@jupyter-widgets/controls",
            "_view_module_version": "1.5.0",
            "_view_name": "HTMLView",
            "description": "",
            "description_tooltip": null,
            "layout": "IPY_MODEL_b6bd9116faaa461bb8138ceca44a9e9d",
            "placeholder": "​",
            "style": "IPY_MODEL_c1b346dc088745a4a78e1c8bd3891ece",
            "value": " 466k/466k [00:00&lt;00:00, 6.44MB/s]"
          }
        },
        "4f4b2bc5789c4ef882f0180c2fa4a7b4": {
          "model_module": "@jupyter-widgets/base",
          "model_name": "LayoutModel",
          "model_module_version": "1.2.0",
          "state": {
            "_model_module": "@jupyter-widgets/base",
            "_model_module_version": "1.2.0",
            "_model_name": "LayoutModel",
            "_view_count": null,
            "_view_module": "@jupyter-widgets/base",
            "_view_module_version": "1.2.0",
            "_view_name": "LayoutView",
            "align_content": null,
            "align_items": null,
            "align_self": null,
            "border": null,
            "bottom": null,
            "display": null,
            "flex": null,
            "flex_flow": null,
            "grid_area": null,
            "grid_auto_columns": null,
            "grid_auto_flow": null,
            "grid_auto_rows": null,
            "grid_column": null,
            "grid_gap": null,
            "grid_row": null,
            "grid_template_areas": null,
            "grid_template_columns": null,
            "grid_template_rows": null,
            "height": null,
            "justify_content": null,
            "justify_items": null,
            "left": null,
            "margin": null,
            "max_height": null,
            "max_width": null,
            "min_height": null,
            "min_width": null,
            "object_fit": null,
            "object_position": null,
            "order": null,
            "overflow": null,
            "overflow_x": null,
            "overflow_y": null,
            "padding": null,
            "right": null,
            "top": null,
            "visibility": null,
            "width": null
          }
        },
        "b98261c04c904b0d85ebaca0d991e46b": {
          "model_module": "@jupyter-widgets/base",
          "model_name": "LayoutModel",
          "model_module_version": "1.2.0",
          "state": {
            "_model_module": "@jupyter-widgets/base",
            "_model_module_version": "1.2.0",
            "_model_name": "LayoutModel",
            "_view_count": null,
            "_view_module": "@jupyter-widgets/base",
            "_view_module_version": "1.2.0",
            "_view_name": "LayoutView",
            "align_content": null,
            "align_items": null,
            "align_self": null,
            "border": null,
            "bottom": null,
            "display": null,
            "flex": null,
            "flex_flow": null,
            "grid_area": null,
            "grid_auto_columns": null,
            "grid_auto_flow": null,
            "grid_auto_rows": null,
            "grid_column": null,
            "grid_gap": null,
            "grid_row": null,
            "grid_template_areas": null,
            "grid_template_columns": null,
            "grid_template_rows": null,
            "height": null,
            "justify_content": null,
            "justify_items": null,
            "left": null,
            "margin": null,
            "max_height": null,
            "max_width": null,
            "min_height": null,
            "min_width": null,
            "object_fit": null,
            "object_position": null,
            "order": null,
            "overflow": null,
            "overflow_x": null,
            "overflow_y": null,
            "padding": null,
            "right": null,
            "top": null,
            "visibility": null,
            "width": null
          }
        },
        "bfd6cdc6c7f84232b5ec1f082d7e34f3": {
          "model_module": "@jupyter-widgets/controls",
          "model_name": "DescriptionStyleModel",
          "model_module_version": "1.5.0",
          "state": {
            "_model_module": "@jupyter-widgets/controls",
            "_model_module_version": "1.5.0",
            "_model_name": "DescriptionStyleModel",
            "_view_count": null,
            "_view_module": "@jupyter-widgets/base",
            "_view_module_version": "1.2.0",
            "_view_name": "StyleView",
            "description_width": ""
          }
        },
        "e907b032fb7d44dfab1ccd6984cbffac": {
          "model_module": "@jupyter-widgets/base",
          "model_name": "LayoutModel",
          "model_module_version": "1.2.0",
          "state": {
            "_model_module": "@jupyter-widgets/base",
            "_model_module_version": "1.2.0",
            "_model_name": "LayoutModel",
            "_view_count": null,
            "_view_module": "@jupyter-widgets/base",
            "_view_module_version": "1.2.0",
            "_view_name": "LayoutView",
            "align_content": null,
            "align_items": null,
            "align_self": null,
            "border": null,
            "bottom": null,
            "display": null,
            "flex": null,
            "flex_flow": null,
            "grid_area": null,
            "grid_auto_columns": null,
            "grid_auto_flow": null,
            "grid_auto_rows": null,
            "grid_column": null,
            "grid_gap": null,
            "grid_row": null,
            "grid_template_areas": null,
            "grid_template_columns": null,
            "grid_template_rows": null,
            "height": null,
            "justify_content": null,
            "justify_items": null,
            "left": null,
            "margin": null,
            "max_height": null,
            "max_width": null,
            "min_height": null,
            "min_width": null,
            "object_fit": null,
            "object_position": null,
            "order": null,
            "overflow": null,
            "overflow_x": null,
            "overflow_y": null,
            "padding": null,
            "right": null,
            "top": null,
            "visibility": null,
            "width": null
          }
        },
        "da6cf0e09e43494b8081572965d19430": {
          "model_module": "@jupyter-widgets/controls",
          "model_name": "ProgressStyleModel",
          "model_module_version": "1.5.0",
          "state": {
            "_model_module": "@jupyter-widgets/controls",
            "_model_module_version": "1.5.0",
            "_model_name": "ProgressStyleModel",
            "_view_count": null,
            "_view_module": "@jupyter-widgets/base",
            "_view_module_version": "1.2.0",
            "_view_name": "StyleView",
            "bar_color": null,
            "description_width": ""
          }
        },
        "b6bd9116faaa461bb8138ceca44a9e9d": {
          "model_module": "@jupyter-widgets/base",
          "model_name": "LayoutModel",
          "model_module_version": "1.2.0",
          "state": {
            "_model_module": "@jupyter-widgets/base",
            "_model_module_version": "1.2.0",
            "_model_name": "LayoutModel",
            "_view_count": null,
            "_view_module": "@jupyter-widgets/base",
            "_view_module_version": "1.2.0",
            "_view_name": "LayoutView",
            "align_content": null,
            "align_items": null,
            "align_self": null,
            "border": null,
            "bottom": null,
            "display": null,
            "flex": null,
            "flex_flow": null,
            "grid_area": null,
            "grid_auto_columns": null,
            "grid_auto_flow": null,
            "grid_auto_rows": null,
            "grid_column": null,
            "grid_gap": null,
            "grid_row": null,
            "grid_template_areas": null,
            "grid_template_columns": null,
            "grid_template_rows": null,
            "height": null,
            "justify_content": null,
            "justify_items": null,
            "left": null,
            "margin": null,
            "max_height": null,
            "max_width": null,
            "min_height": null,
            "min_width": null,
            "object_fit": null,
            "object_position": null,
            "order": null,
            "overflow": null,
            "overflow_x": null,
            "overflow_y": null,
            "padding": null,
            "right": null,
            "top": null,
            "visibility": null,
            "width": null
          }
        },
        "c1b346dc088745a4a78e1c8bd3891ece": {
          "model_module": "@jupyter-widgets/controls",
          "model_name": "DescriptionStyleModel",
          "model_module_version": "1.5.0",
          "state": {
            "_model_module": "@jupyter-widgets/controls",
            "_model_module_version": "1.5.0",
            "_model_name": "DescriptionStyleModel",
            "_view_count": null,
            "_view_module": "@jupyter-widgets/base",
            "_view_module_version": "1.2.0",
            "_view_name": "StyleView",
            "description_width": ""
          }
        }
      }
    }
  },
  "cells": [
    {
      "cell_type": "code",
      "execution_count": null,
      "metadata": {
        "id": "jgotmZbl681Q"
      },
      "outputs": [],
      "source": [
        "%%capture\n",
        "!pip install transformers"
      ]
    },
    {
      "cell_type": "code",
      "source": [
        "import json\n",
        "from pathlib import Path\n",
        "import torch\n",
        "from torch.utils.data import DataLoader\n",
        "import time\n",
        "import numpy as np\n",
        "from transformers import BertModel\n",
        "from transformers import DataCollatorWithPadding,AutoModelForSequenceClassification, Trainer, TrainingArguments,AutoTokenizer,AutoModel,AutoConfig\n",
        "from transformers.modeling_outputs import TokenClassifierOutput\n",
        "import torch\n",
        "import torch.nn as nn\n",
        "import pandas as pd\n",
        "import torch\n",
        "from transformers import AutoTokenizer,BertTokenizerFast"
      ],
      "metadata": {
        "id": "W6MAO3Mp7yCe"
      },
      "execution_count": null,
      "outputs": []
    },
    {
      "cell_type": "code",
      "source": [
        "from google.colab import drive\n",
        "drive.mount('/content/drive', force_remount=True)"
      ],
      "metadata": {
        "colab": {
          "base_uri": "https://localhost:8080/"
        },
        "id": "WYP29Xgf71XM",
        "outputId": "18997e2e-0a8e-4912-fd1c-c8829660fa09"
      },
      "execution_count": null,
      "outputs": [
        {
          "output_type": "stream",
          "name": "stdout",
          "text": [
            "Mounted at /content/drive\n"
          ]
        }
      ]
    },
    {
      "cell_type": "code",
      "source": [
        "class CustomModel(nn.Module):\n",
        "  def __init__(self,num_labels):\n",
        "    super(CustomModel,self).__init__()\n",
        "    self.num_labels = num_labels\n",
        "\n",
        "    #Load Model with given checkpoint and extract its body\n",
        "    self.model= BertModel.from_pretrained('bert-base-uncased',output_attentions=True,output_hidden_states=True)\n",
        "    self.second_hidden=nn.Linear(768,512)\n",
        "    self.act=nn.ReLU()\n",
        "    self.dropout=nn.Dropout(0.2)\n",
        "    self.classifier = nn.Linear(512,num_labels) # load and initialize weights\n",
        "\n",
        "\n",
        "  def forward(self, input_ids=None, attention_mask=None,start_positions=None,end_positions=None):\n",
        "    #Extract outputs from the body\n",
        "    sequence_output= self.model(input_ids=input_ids, attention_mask=attention_mask)\n",
        "\n",
        "    seq=sequence_output.last_hidden_state\n",
        "    seq1=self.second_hidden(seq)\n",
        "    sequence_output1=self.act(seq1)\n",
        "    sequence_outputs=self.dropout(sequence_output1)\n",
        "    logits = self.classifier(sequence_outputs)  # Assuming this outputs a single tensor\n",
        "    logits=nn.functional.softmax(logits,dim=1)\n",
        "\n",
        "    # Split the logits into start and end logits\n",
        "    start_logits, end_logits = logits[:, :, 0].squeeze(),logits[:,:,1].squeeze()\n",
        "    # start_logits_ind=torch.argmax(start_logits,axis=1)\n",
        "    # end_logits_ind=torch.argmax(end_logits,axis=1)\n",
        "\n",
        "    loss = 0\n",
        "    if (start_positions is not None) and (end_positions is not None):\n",
        "      loss1=loss2=0\n",
        "      for i in range(logits.shape[0]):\n",
        "        loss1=loss1-torch.log(start_logits[i][start_positions[i]])\n",
        "        loss2=loss2-torch.log(end_logits[i][end_positions[i]])\n",
        "      loss = loss1 + loss2\n",
        "    return TokenClassifierOutput(loss=loss, logits=logits, hidden_states=sequence_output.hidden_states,attentions=sequence_output.attentions)"
      ],
      "metadata": {
        "id": "CB29Uk0O718y"
      },
      "execution_count": null,
      "outputs": []
    },
    {
      "cell_type": "code",
      "source": [
        "# Loading the bert tokenizer and the saved model\n",
        "\n",
        "tokenizer = AutoTokenizer.from_pretrained('bert-base-uncased')\n",
        "\n",
        "model = torch.load(\"/content/drive/MyDrive/bertqa_finetuned/sc_40k_d_5\", map_location = torch.device('cpu'))\n",
        "model.eval()"
      ],
      "metadata": {
        "colab": {
          "base_uri": "https://localhost:8080/",
          "height": 984,
          "referenced_widgets": [
            "bd0084a538474b5883375793758bfa37",
            "a6119e00a10f4f13a409d19585fca8c8",
            "936ac436c63840d3aee3db98d5467c51",
            "fe165fc232b0471f9d600ba6f55e2ac2",
            "bd920e453f9e41879e193e95fd2e7dae",
            "c6ffff9e70be42d68d58fc4695b3ad13",
            "a766fdacd2fe4cca94424a36313dd387",
            "8a000c23c92e499dacd825e125d53ae8",
            "e45ca682235c42e1a3ffb72c9919c9b1",
            "716cee6d9b424b74b19a12168248c69e",
            "c37708fb17a84336929c2041604b7235",
            "c36e32a043764412a3a48c19e501ec32",
            "6c55cfb125c148d4b6c2ded2d01b0beb",
            "ad906dcfbc0f40ddac0713139ead345c",
            "992f4b58642d451cac79c2ac25ba4b6c",
            "96917acdbfd1445fbc5db07b69f6aea4",
            "37978f398bef4c0bba707dcb07dd4d2b",
            "adca715bea45450fa7202a09aa384349",
            "17cc22f740164b938853b3162bc4c9b8",
            "02f71c7fbcb749c594638ee3dd0fb672",
            "fbee03110a704b37aa2c7ff8fa7b54df",
            "9367ad26b37d4e0dba5177ffeb134629",
            "c9cae16d2adc465196cbf16846d047d2",
            "29cb89e2af9345a7ace972001385259f",
            "6ba0e93aeec149ab9fed098aa8fafe69",
            "a2aabc03a3224ed89982e6a074fe0cc5",
            "c04432f0632443d0b126b9209f82e486",
            "de32043ca91c40ae9b12e3760ed87dc2",
            "c1018d915549454087dcc63e1a2c0946",
            "11c88d25fd9c42be88c1aa833bb66837",
            "ab2906c59d724189bb0cdd98627920c3",
            "f6315bff643640dab73f5df87fe98a4f",
            "c942aae96e434f89a4bbf48f870f147a",
            "51197b0d88ad4b738c801875f0ba247b",
            "23d94bc7c3234f19922c25360ce90d18",
            "c7c0df7cdd504a7088686b1c9d34b66c",
            "6a7dae5faea342bd8331e036d8444c01",
            "4f4b2bc5789c4ef882f0180c2fa4a7b4",
            "b98261c04c904b0d85ebaca0d991e46b",
            "bfd6cdc6c7f84232b5ec1f082d7e34f3",
            "e907b032fb7d44dfab1ccd6984cbffac",
            "da6cf0e09e43494b8081572965d19430",
            "b6bd9116faaa461bb8138ceca44a9e9d",
            "c1b346dc088745a4a78e1c8bd3891ece"
          ]
        },
        "id": "QUfxvCSR74I1",
        "outputId": "37679054-8969-449d-b9e0-50a0b5983256"
      },
      "execution_count": null,
      "outputs": [
        {
          "output_type": "display_data",
          "data": {
            "text/plain": [
              "tokenizer_config.json:   0%|          | 0.00/28.0 [00:00<?, ?B/s]"
            ],
            "application/vnd.jupyter.widget-view+json": {
              "version_major": 2,
              "version_minor": 0,
              "model_id": "bd0084a538474b5883375793758bfa37"
            }
          },
          "metadata": {}
        },
        {
          "output_type": "display_data",
          "data": {
            "text/plain": [
              "config.json:   0%|          | 0.00/570 [00:00<?, ?B/s]"
            ],
            "application/vnd.jupyter.widget-view+json": {
              "version_major": 2,
              "version_minor": 0,
              "model_id": "c36e32a043764412a3a48c19e501ec32"
            }
          },
          "metadata": {}
        },
        {
          "output_type": "display_data",
          "data": {
            "text/plain": [
              "vocab.txt:   0%|          | 0.00/232k [00:00<?, ?B/s]"
            ],
            "application/vnd.jupyter.widget-view+json": {
              "version_major": 2,
              "version_minor": 0,
              "model_id": "c9cae16d2adc465196cbf16846d047d2"
            }
          },
          "metadata": {}
        },
        {
          "output_type": "display_data",
          "data": {
            "text/plain": [
              "tokenizer.json:   0%|          | 0.00/466k [00:00<?, ?B/s]"
            ],
            "application/vnd.jupyter.widget-view+json": {
              "version_major": 2,
              "version_minor": 0,
              "model_id": "51197b0d88ad4b738c801875f0ba247b"
            }
          },
          "metadata": {}
        },
        {
          "output_type": "execute_result",
          "data": {
            "text/plain": [
              "CustomModel(\n",
              "  (model): BertModel(\n",
              "    (embeddings): BertEmbeddings(\n",
              "      (word_embeddings): Embedding(30522, 768, padding_idx=0)\n",
              "      (position_embeddings): Embedding(512, 768)\n",
              "      (token_type_embeddings): Embedding(2, 768)\n",
              "      (LayerNorm): LayerNorm((768,), eps=1e-12, elementwise_affine=True)\n",
              "      (dropout): Dropout(p=0.1, inplace=False)\n",
              "    )\n",
              "    (encoder): BertEncoder(\n",
              "      (layer): ModuleList(\n",
              "        (0-11): 12 x BertLayer(\n",
              "          (attention): BertAttention(\n",
              "            (self): BertSelfAttention(\n",
              "              (query): Linear(in_features=768, out_features=768, bias=True)\n",
              "              (key): Linear(in_features=768, out_features=768, bias=True)\n",
              "              (value): Linear(in_features=768, out_features=768, bias=True)\n",
              "              (dropout): Dropout(p=0.1, inplace=False)\n",
              "            )\n",
              "            (output): BertSelfOutput(\n",
              "              (dense): Linear(in_features=768, out_features=768, bias=True)\n",
              "              (LayerNorm): LayerNorm((768,), eps=1e-12, elementwise_affine=True)\n",
              "              (dropout): Dropout(p=0.1, inplace=False)\n",
              "            )\n",
              "          )\n",
              "          (intermediate): BertIntermediate(\n",
              "            (dense): Linear(in_features=768, out_features=3072, bias=True)\n",
              "            (intermediate_act_fn): GELUActivation()\n",
              "          )\n",
              "          (output): BertOutput(\n",
              "            (dense): Linear(in_features=3072, out_features=768, bias=True)\n",
              "            (LayerNorm): LayerNorm((768,), eps=1e-12, elementwise_affine=True)\n",
              "            (dropout): Dropout(p=0.1, inplace=False)\n",
              "          )\n",
              "        )\n",
              "      )\n",
              "    )\n",
              "    (pooler): BertPooler(\n",
              "      (dense): Linear(in_features=768, out_features=768, bias=True)\n",
              "      (activation): Tanh()\n",
              "    )\n",
              "  )\n",
              "  (second_hidden): Linear(in_features=768, out_features=512, bias=True)\n",
              "  (act): ReLU()\n",
              "  (dropout): Dropout(p=0.2, inplace=False)\n",
              "  (classifier): Linear(in_features=512, out_features=2, bias=True)\n",
              ")"
            ]
          },
          "metadata": {},
          "execution_count": 5
        }
      ]
    },
    {
      "cell_type": "code",
      "source": [
        "# Predict function to predict the answer given a query and context\n",
        "def predict(query,context):\n",
        "\n",
        "  inputs = tokenizer.encode_plus(query, context, return_tensors='pt',truncation = True)\n",
        "  del inputs[\"token_type_ids\"]\n",
        "\n",
        "  outputs = model(**inputs)\n",
        "  logits = outputs['logits']\n",
        "  start_logits,end_logits = logits[:, :, 0].squeeze(),logits[:,:,1].squeeze()\n",
        "  answer_start = torch.argmax(start_logits)\n",
        "  answer_end = torch.argmax(end_logits) + 1\n",
        "\n",
        "  answer = tokenizer.convert_tokens_to_string(tokenizer.convert_ids_to_tokens(inputs['input_ids'][0][answer_start:answer_end]))\n",
        "\n",
        "  return answer\n",
        "\n",
        "\n",
        "# Processing the true answer and predicted answer to compute exact match\n",
        "def normalize_text(s):\n",
        "  import string, re\n",
        "\n",
        "  def remove_articles(text):\n",
        "    regex = re.compile(r\"\\b(a|an|the)\\b\", re.UNICODE)\n",
        "    return re.sub(regex, \" \", text)\n",
        "\n",
        "  def white_space_fix(text):\n",
        "    return \" \".join(text.split())\n",
        "\n",
        "  def remove_punc(text):\n",
        "    exclude = set(string.punctuation)\n",
        "    return \"\".join(ch for ch in text if ch not in exclude)\n",
        "\n",
        "  def lower(text):\n",
        "    return text.lower()\n",
        "\n",
        "  return white_space_fix(remove_articles(remove_punc(lower(s))))\n",
        "\n",
        "\n",
        "#Computing the exact match\n",
        "def compute_exact_match(prediction, truth):\n",
        "    return int(normalize_text(prediction) == normalize_text(truth))\n",
        "\n",
        "# Computing the f1-score\n",
        "def compute_f1(prediction, truth):\n",
        "  pred_tokens = normalize_text(prediction).split()\n",
        "  truth_tokens = normalize_text(truth).split()\n",
        "\n",
        "  if len(pred_tokens) == 0 or len(truth_tokens) == 0:\n",
        "    return int(pred_tokens == truth_tokens)\n",
        "\n",
        "  common_tokens = set(pred_tokens) & set(truth_tokens)\n",
        "\n",
        "  if len(common_tokens) == 0:\n",
        "    return 0\n",
        "\n",
        "  prec = len(common_tokens) / len(pred_tokens)\n",
        "  rec = len(common_tokens) / len(truth_tokens)\n",
        "\n",
        "  return 2 * (prec * rec) / (prec + rec)"
      ],
      "metadata": {
        "id": "ApB1FVF78eSj"
      },
      "execution_count": null,
      "outputs": []
    },
    {
      "cell_type": "code",
      "source": [
        "def give_an_answer(context,query,answer):\n",
        "\n",
        "  prediction = predict(query,context)\n",
        "  if prediction == '[CLS]':\n",
        "    prediction = ''\n",
        "  em_score = compute_exact_match(prediction, answer)\n",
        "  f1_score = compute_f1(prediction, answer)\n",
        "  return em_score,f1_score\n"
      ],
      "metadata": {
        "id": "2ViKRj3o8h1q"
      },
      "execution_count": null,
      "outputs": []
    },
    {
      "cell_type": "code",
      "source": [
        "# Reading the test data\n",
        "path = Path('/content/drive/MyDrive/data/test-v2.0.json')\n",
        "\n",
        "with open(path, 'rb') as f:\n",
        "    squad_dict = json.load(f)\n",
        "\n",
        "texts = []\n",
        "queries = []\n",
        "answers = []\n",
        "\n",
        "for group in squad_dict['data']:\n",
        "    for passage in group['paragraphs']:\n",
        "        context = passage['context']\n",
        "        for qa in passage['qas']:\n",
        "            question = qa['question']\n",
        "            if(qa['answers'] == []):\n",
        "                texts.append(context)\n",
        "                queries.append(question)\n",
        "                answers.append({'text':'', 'answer_start':-1})\n",
        "            else:\n",
        "                for answer in qa['answers']:\n",
        "                    texts.append(context)\n",
        "                    queries.append(question)\n",
        "                    answers.append(answer)\n",
        "\n",
        "test_texts, test_queries, test_answers = texts, queries, answers"
      ],
      "metadata": {
        "id": "iKTtar0p8ib6"
      },
      "execution_count": null,
      "outputs": []
    },
    {
      "cell_type": "code",
      "source": [
        "# Reading the test data with answers\n",
        "path = Path('/content/drive/MyDrive/data/dev-v2.0.json')\n",
        "\n",
        "with open(path, 'rb') as f:\n",
        "    squad_dict = json.load(f)\n",
        "\n",
        "texts = []\n",
        "queries = []\n",
        "answers = []\n",
        "num = 0\n",
        "\n",
        "for group in squad_dict['data']:\n",
        "    for passage in group['paragraphs']:\n",
        "        num += 1\n",
        "        context = passage['context']\n",
        "        for qa in passage['qas']:\n",
        "            question = qa['question']\n",
        "            for answer in qa['answers']:\n",
        "              texts.append(context)\n",
        "              queries.append(question)\n",
        "              answers.append(answer)\n",
        "\n",
        "val_texts, val_queries, val_answers = texts, queries, answers"
      ],
      "metadata": {
        "id": "Tlmg_0yd8rgI"
      },
      "execution_count": null,
      "outputs": []
    },
    {
      "cell_type": "code",
      "source": [
        "len(val_texts)"
      ],
      "metadata": {
        "colab": {
          "base_uri": "https://localhost:8080/"
        },
        "id": "G4Bk2Khj8xei",
        "outputId": "79c63ee6-8d7d-4cc4-b8b1-60d28b868acb"
      },
      "execution_count": null,
      "outputs": [
        {
          "output_type": "execute_result",
          "data": {
            "text/plain": [
              "10052"
            ]
          },
          "metadata": {},
          "execution_count": 10
        }
      ]
    },
    {
      "cell_type": "code",
      "source": [
        "len(test_texts)"
      ],
      "metadata": {
        "colab": {
          "base_uri": "https://localhost:8080/"
        },
        "id": "ARjuMMVD8zo_",
        "outputId": "662365d6-0c71-4f87-b06f-e51315c0283d"
      },
      "execution_count": null,
      "outputs": [
        {
          "output_type": "execute_result",
          "data": {
            "text/plain": [
              "5915"
            ]
          },
          "metadata": {},
          "execution_count": 11
        }
      ]
    },
    {
      "cell_type": "code",
      "source": [
        "# Taking last 2000 examples from validation dataset\n",
        "val_texts = val_texts[-2000:]\n",
        "val_queries = val_queries[-2000:]\n",
        "val_answers = val_answers[-2000:]"
      ],
      "metadata": {
        "id": "cO-PYp1E80Is"
      },
      "execution_count": null,
      "outputs": []
    },
    {
      "cell_type": "code",
      "source": [
        "len(val_texts)"
      ],
      "metadata": {
        "colab": {
          "base_uri": "https://localhost:8080/"
        },
        "id": "Ur0TqEED9La3",
        "outputId": "554fdaae-26a4-4bc6-df96-a608041d7fdd"
      },
      "execution_count": null,
      "outputs": [
        {
          "output_type": "execute_result",
          "data": {
            "text/plain": [
              "2000"
            ]
          },
          "metadata": {},
          "execution_count": 13
        }
      ]
    },
    {
      "cell_type": "code",
      "source": [
        "# Taking first 2000 examples from validation dataset\n",
        "test_texts = test_texts[:2000]\n",
        "test_queries = test_queries[:2000]\n",
        "test_answers = test_answers[:2000]"
      ],
      "metadata": {
        "id": "QT0xM0v885-Z"
      },
      "execution_count": null,
      "outputs": []
    },
    {
      "cell_type": "code",
      "source": [
        "# Evaluating EM and F1-Score\n",
        "def evaluate(que, ans, con):\n",
        "  test_em = 0\n",
        "  test_f1 = 0\n",
        "  for i in range(len(que)):\n",
        "    em,f1 = give_an_answer(con[i],que[i],ans[i]['text'])\n",
        "    test_em = test_em + em\n",
        "    test_f1 = test_f1 + f1\n",
        "\n",
        "  test_f1 = test_f1/len(que)\n",
        "  test_em = test_em/len(que)\n",
        "  return test_em,test_f1"
      ],
      "metadata": {
        "id": "HRYj2WZb7RVa"
      },
      "execution_count": null,
      "outputs": []
    },
    {
      "cell_type": "code",
      "source": [
        "# Calculating Exact match and F1 score on data which have answers (Total 2000 queries)\n",
        "em_test,f1_test = evaluate(val_queries,val_answers,val_texts)\n",
        "print(\"Exact match score for queries with answers : \", em_test)\n",
        "print(\"F1-score for queries with answers : \", f1_test)"
      ],
      "metadata": {
        "colab": {
          "base_uri": "https://localhost:8080/"
        },
        "id": "V_w0PxIr7c05",
        "outputId": "4f816771-8763-4896-8d6f-633df9cdd37a"
      },
      "execution_count": null,
      "outputs": [
        {
          "output_type": "stream",
          "name": "stdout",
          "text": [
            "Exact match score for queries with answers :  0.3565\n",
            "F1-score for queries with answers :  0.47472219821107886\n"
          ]
        }
      ]
    },
    {
      "cell_type": "code",
      "source": [
        "# Calculating Exact match and F1 score on data which dont have answers (Total 2000 queries)\n",
        "em_test,f1_test = evaluate(test_queries,test_answers,test_texts)\n",
        "print(\"Exact match score for queries with no answers : \", em_test)\n",
        "print(\"F1-score for queries with no answers : \", f1_test)"
      ],
      "metadata": {
        "colab": {
          "base_uri": "https://localhost:8080/"
        },
        "id": "v0t8cDYe9h0i",
        "outputId": "ae95bdca-f018-4dc8-99a9-467981c47b78"
      },
      "execution_count": null,
      "outputs": [
        {
          "output_type": "stream",
          "name": "stdout",
          "text": [
            "Exact match score for queries with no answers :  0.3675\n",
            "F1-score for queries with no answers :  0.3675\n"
          ]
        }
      ]
    },
    {
      "cell_type": "markdown",
      "source": [
        "**ANALYSIS**"
      ],
      "metadata": {
        "id": "O3ttF9IOsBDp"
      }
    },
    {
      "cell_type": "code",
      "source": [
        "# Filtering queries on the basis of the type (Eg: Which, What ...)\n",
        "def type_que(q_type):\n",
        "  ctr = 0\n",
        "  L_que = []\n",
        "  L_ans = []\n",
        "  L_con = []\n",
        "  for i in range(len(val_texts)):\n",
        "    w = val_queries[i].lower().split()\n",
        "    if q_type in w:\n",
        "      ctr += 1\n",
        "      L_que.append(val_queries[i])\n",
        "      L_ans.append(val_answers[i])\n",
        "      L_con.append(val_texts[i])\n",
        "  for j in range(len(test_texts)):\n",
        "    w = test_queries[j].lower().split()\n",
        "    if q_type in w:\n",
        "      ctr +=1\n",
        "      L_que.append(test_queries[i])\n",
        "      L_ans.append(test_answers[i])\n",
        "      L_con.append(test_texts[i])\n",
        "  return L_que, L_ans, L_con"
      ],
      "metadata": {
        "id": "nkbsjyYCCbCV"
      },
      "execution_count": null,
      "outputs": []
    },
    {
      "cell_type": "code",
      "source": [
        "wh_type = ['when','who','how','why','where','what']\n",
        "\n",
        "for i in range(len(wh_type)):\n",
        "  que, ans, con = type_que(wh_type[i])\n",
        "  em_type,f1_type = evaluate(que,ans,con)\n",
        "  print(\"Exact match score for \\\"\" + wh_type[i] + \"\\\" type of question :\" , em_type)\n",
        "  print(\"F1-score for \\\"\" + wh_type[i] + \"\\\" type of question :\" , f1_type)"
      ],
      "metadata": {
        "colab": {
          "base_uri": "https://localhost:8080/"
        },
        "id": "VlFYV2Qe91wv",
        "outputId": "91a0ca31-0895-454b-a460-02917b77fd1e"
      },
      "execution_count": null,
      "outputs": [
        {
          "output_type": "stream",
          "name": "stdout",
          "text": [
            "Exact match score for \"when\" type of question : 0.7086092715231788\n",
            "F1-score for \"when\" type of question : 0.7428812725170342\n",
            "Exact match score for \"who\" type of question : 0.7530864197530864\n",
            "F1-score for \"who\" type of question : 0.8005580763594251\n",
            "Exact match score for \"how\" type of question : 0.6597938144329897\n",
            "F1-score for \"how\" type of question : 0.7260061204276573\n",
            "Exact match score for \"why\" type of question : 0.4838709677419355\n",
            "F1-score for \"why\" type of question : 0.5818816755149523\n",
            "Exact match score for \"where\" type of question : 0.5253456221198156\n",
            "F1-score for \"where\" type of question : 0.6448445046081085\n",
            "Exact match score for \"what\" type of question : 0.6650641025641025\n",
            "F1-score for \"what\" type of question : 0.7246847347637309\n"
          ]
        }
      ]
    },
    {
      "cell_type": "code",
      "source": [
        "# Selecting queries which don't have Wh type questions and evaluating them\n",
        "qw = ['what', 'who', 'where', 'when', 'why', 'how', 'whose', 'which']\n",
        "others_que, others_ans, others_con = [], [], []\n",
        "for i in range(len(val_queries)):\n",
        "  w = val_queries[i].lower().split()\n",
        "  common_element = set(qw) & set(w)\n",
        "  if common_element:\n",
        "    continue\n",
        "  else:\n",
        "    others_que.append(val_queries[i])\n",
        "    others_ans.append(val_answers[i])\n",
        "    others_con.append(val_texts[i])\n",
        "for j in range(len(test_queries)):\n",
        "  w = test_queries[i].lower().split()\n",
        "  common_element = set(qw) & set(w)\n",
        "  if common_element:\n",
        "    continue\n",
        "  else:\n",
        "    others_que.append(test_queries[i])\n",
        "    others_ans.append(test_answers[i])\n",
        "    others_con.append(test_texts[i])\n",
        "\n",
        "unst_em, unst_f1 = evaluate(others_que,others_ans,others_con)\n",
        "\n",
        "print(\"Exact match score for unstructured questions :\" ,unst_em )\n",
        "print(\"F1-score for unstructured questions :\" , unst_f1)"
      ],
      "metadata": {
        "colab": {
          "base_uri": "https://localhost:8080/"
        },
        "id": "SQt_EBmCXj9o",
        "outputId": "024ee1a8-cfb0-49e8-bc4a-2567fc18a602"
      },
      "execution_count": null,
      "outputs": [
        {
          "output_type": "stream",
          "name": "stdout",
          "text": [
            "Exact match score for unstructured questions : 0.17647058823529413\n",
            "F1-score for unstructured questions : 0.24548686034754147\n"
          ]
        }
      ]
    },
    {
      "cell_type": "code",
      "source": [
        "# Evaluating queries based on Short Answer Questions and Long Answer Questions\n",
        "\n",
        "small_que, small_ans, small_con = [],[],[]\n",
        "long_que, long_ans,long_con = [],[],[]\n",
        "for i in range(len(val_queries)):\n",
        "  w = val_answers[i]['text'].lower().split()\n",
        "  if len(w) < 5:\n",
        "    small_que.append(val_queries[i])\n",
        "    small_ans.append(val_answers[i])\n",
        "    small_con.append(val_texts[i])\n",
        "  else:\n",
        "    long_que.append(val_queries[i])\n",
        "    long_ans.append(val_answers[i])\n",
        "    long_con.append(val_texts[i])"
      ],
      "metadata": {
        "id": "IQh1HJ17l0BI"
      },
      "execution_count": null,
      "outputs": []
    },
    {
      "cell_type": "code",
      "source": [
        "print(len(small_que))\n",
        "print(len(long_que))"
      ],
      "metadata": {
        "colab": {
          "base_uri": "https://localhost:8080/"
        },
        "id": "p6UCRg6xhM5Y",
        "outputId": "a0b9c5c1-88cb-47bf-ea61-801c9d12d6e1"
      },
      "execution_count": null,
      "outputs": [
        {
          "output_type": "stream",
          "name": "stdout",
          "text": [
            "1561\n",
            "439\n"
          ]
        }
      ]
    },
    {
      "cell_type": "code",
      "source": [
        "em_small,f1_small = evaluate(small_que, small_ans, small_con)\n",
        "print(\"The exact match score for questions with Short answers is : \", em_small)\n",
        "print(\"The F1-score for questions with Short answers is : \", f1_small)"
      ],
      "metadata": {
        "colab": {
          "base_uri": "https://localhost:8080/"
        },
        "id": "vcJTg8T4nPgO",
        "outputId": "c1c985ec-2aed-4c5e-d877-b7b585b57b94"
      },
      "execution_count": null,
      "outputs": [
        {
          "output_type": "stream",
          "name": "stdout",
          "text": [
            "The exact match score for questions with Short answers is :  0.4336963484945548\n",
            "The F1-score for questions with Short answers is :  0.5218048594253601\n"
          ]
        }
      ]
    },
    {
      "cell_type": "code",
      "source": [
        "em_long,f1_long = evaluate(long_que, long_ans, long_con)\n",
        "print(\"The exact match score for questions with Long answers is : \", em_long)\n",
        "print(\"The F1-score for questions with Long answers is : \", f1_long)"
      ],
      "metadata": {
        "colab": {
          "base_uri": "https://localhost:8080/"
        },
        "id": "8x1HdW3Mhpk-",
        "outputId": "2f2516e2-1d6b-4718-8bbb-53524362d304"
      },
      "execution_count": null,
      "outputs": [
        {
          "output_type": "stream",
          "name": "stdout",
          "text": [
            "The exact match score for questions with Long answers is :  0.08200455580865604\n",
            "The F1-score for questions with Long answers is :  0.30730526391610674\n"
          ]
        }
      ]
    }
  ]
}