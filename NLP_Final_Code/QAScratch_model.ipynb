{
  "cells": [
    {
      "cell_type": "code",
      "execution_count": null,
      "metadata": {
        "colab": {
          "base_uri": "https://localhost:8080/"
        },
        "id": "tb2BP-P2YGg6",
        "outputId": "a7b3fdab-24ff-4614-fc2a-b6afcc6428ef"
      },
      "outputs": [
        {
          "output_type": "stream",
          "name": "stdout",
          "text": [
            "Drive already mounted at /content/drive; to attempt to forcibly remount, call drive.mount(\"/content/drive\", force_remount=True).\n"
          ]
        }
      ],
      "source": [
        "from google.colab import drive\n",
        "drive.mount('/content/drive')"
      ]
    },
    {
      "cell_type": "code",
      "execution_count": null,
      "metadata": {
        "id": "v5Jlcrg0ghs-"
      },
      "outputs": [],
      "source": [
        "import json\n",
        "from pathlib import Path\n",
        "import torch\n",
        "from torch.utils.data import DataLoader\n",
        "import time\n",
        "import numpy as np"
      ]
    },
    {
      "cell_type": "markdown",
      "metadata": {
        "id": "9G6iYKZ7gRWr"
      },
      "source": [
        "## ***Step 1:*** Load the data"
      ]
    },
    {
      "cell_type": "markdown",
      "source": [
        "Load the json files for train and validation, into lists of texts, queries, answers"
      ],
      "metadata": {
        "id": "2IbxOLHzkaGZ"
      }
    },
    {
      "cell_type": "code",
      "execution_count": null,
      "metadata": {
        "id": "6b2EMVb-fhwA"
      },
      "outputs": [],
      "source": [
        "path = Path('/content/drive/MyDrive/data/train-v2.0.json')\n",
        "\n",
        "with open(path, 'rb') as f:\n",
        "    squad_dict = json.load(f)\n",
        "\n",
        "texts = []\n",
        "queries = []\n",
        "answers = []\n",
        "\n",
        "for group in squad_dict['data']:\n",
        "    for passage in group['paragraphs']:\n",
        "        context = passage['context']\n",
        "        for qa in passage['qas']:\n",
        "            question = qa['question']\n",
        "            if(qa['answers'] == []):\n",
        "                texts.append(context)\n",
        "                queries.append(question)\n",
        "                answers.append({'text':'', 'answer_start':-1})\n",
        "            else:\n",
        "                for answer in qa['answers']:\n",
        "                    texts.append(context)\n",
        "                    queries.append(question)\n",
        "                    answers.append(answer)\n",
        "\n",
        "train_texts, train_queries, train_answers = texts, queries, answers"
      ]
    },
    {
      "cell_type": "code",
      "execution_count": null,
      "metadata": {
        "id": "_JPP5Daci2V8"
      },
      "outputs": [],
      "source": [
        "path = Path('/content/drive/MyDrive/data/dev-v2.0.json')\n",
        "\n",
        "with open(path, 'rb') as f:\n",
        "    squad_dict = json.load(f)\n",
        "\n",
        "texts = []\n",
        "queries = []\n",
        "answers = []\n",
        "num = 0\n",
        "\n",
        "for group in squad_dict['data']:\n",
        "    for passage in group['paragraphs']:\n",
        "        num += 1\n",
        "        context = passage['context']\n",
        "        for qa in passage['qas']:\n",
        "            question = qa['question']\n",
        "            if(qa['answers'] == []):\n",
        "                texts.append(context)\n",
        "                queries.append(question)\n",
        "                answers.append({'text':'', 'answer_start':-1})\n",
        "            else:\n",
        "                for answer in qa['answers']:\n",
        "                    texts.append(context)\n",
        "                    queries.append(question)\n",
        "                    answers.append(answer)\n",
        "\n",
        "val_texts, val_queries, val_answers = texts, queries, answers"
      ]
    },
    {
      "cell_type": "markdown",
      "source": [
        "## ***Step 2:*** Data Preprocessing"
      ],
      "metadata": {
        "id": "nQhVnTgvlpNN"
      }
    },
    {
      "cell_type": "markdown",
      "source": [
        "Shorten the data to make it less computationally expensive"
      ],
      "metadata": {
        "id": "hTtXwvg_l7jp"
      }
    },
    {
      "cell_type": "code",
      "execution_count": null,
      "metadata": {
        "id": "QsxbrdQBIN4l"
      },
      "outputs": [],
      "source": [
        "train_texts = train_texts[:40000]\n",
        "train_queries = train_queries[:40000]\n",
        "train_answers = train_answers[:40000]\n",
        "\n",
        "val_texts = val_texts[:5000]\n",
        "val_queries = val_queries[:5000]\n",
        "val_answers = val_answers[:5000]"
      ]
    },
    {
      "cell_type": "markdown",
      "metadata": {
        "id": "kNAThgIvq_4S"
      },
      "source": [
        "Find end position character in train data"
      ]
    },
    {
      "cell_type": "code",
      "execution_count": null,
      "metadata": {
        "id": "qlexBsEcnI77"
      },
      "outputs": [],
      "source": [
        "for answer, text in zip(train_answers, train_texts):\n",
        "    real_answer = answer['text']\n",
        "    start_idx = answer['answer_start']\n",
        "    # Get the end index\n",
        "    end_idx = start_idx + len(real_answer)"
      ]
    },
    {
      "cell_type": "markdown",
      "metadata": {
        "id": "aEzbDWC1sPEn"
      },
      "source": [
        "Find end position character in validation data"
      ]
    },
    {
      "cell_type": "code",
      "execution_count": null,
      "metadata": {
        "id": "Xe2_AZszsRqr"
      },
      "outputs": [],
      "source": [
        "for answer, text in zip(val_answers, val_texts):\n",
        "    real_answer = answer['text']\n",
        "    start_idx = answer['answer_start']\n",
        "    # Get the end index\n",
        "    end_idx = start_idx + len(real_answer)"
      ]
    },
    {
      "cell_type": "markdown",
      "metadata": {
        "id": "83nKp3c5tU7A"
      },
      "source": [
        "## ***Step 3:*** Tokenize queries and passages"
      ]
    },
    {
      "cell_type": "markdown",
      "metadata": {
        "id": "boxZGej3t17f"
      },
      "source": [
        "Tokenizing using BERT-based AutoTokenizer"
      ]
    },
    {
      "cell_type": "code",
      "execution_count": null,
      "metadata": {
        "id": "-dncUoMhtpWj"
      },
      "outputs": [],
      "source": [
        "from transformers import AutoTokenizer,AdamW,BertForQuestionAnswering\n",
        "tokenizer = AutoTokenizer.from_pretrained(\"bert-base-uncased\")\n",
        "\n",
        "train_encodings = tokenizer(train_queries, train_texts, truncation=True, padding = True, return_offsets_mapping=True, return_overflowing_tokens=True)\n",
        "val_encodings = tokenizer(val_queries, val_texts, truncation=True, padding = True, return_offsets_mapping=True, return_overflowing_tokens=True)"
      ]
    },
    {
      "cell_type": "markdown",
      "metadata": {
        "id": "WHaETr5izn0t"
      },
      "source": [
        "## ***Step 4:*** Convert the start-end positions to start-end tokens"
      ]
    },
    {
      "cell_type": "code",
      "execution_count": null,
      "metadata": {
        "id": "VHDTX4HZzN3e"
      },
      "outputs": [],
      "source": [
        "def add_token_positions(encodings, answers):\n",
        "  start_positions = []\n",
        "  end_positions = []\n",
        "\n",
        "  for i, offset in enumerate(encodings[\"offset_mapping\"]):\n",
        "      sample_idx = encodings[\"overflow_to_sample_mapping\"][i]\n",
        "      answer = answers[sample_idx]\n",
        "      start_char = answer[\"answer_start\"]\n",
        "      end_char = answer[\"answer_start\"] + len(answer[\"text\"])\n",
        "      sequence_ids = encodings.sequence_ids(i)\n",
        "\n",
        "      # Find the start and end of the context\n",
        "      idx = 0\n",
        "      while sequence_ids[idx] != 1:\n",
        "          idx += 1\n",
        "      context_start = idx\n",
        "      while sequence_ids[idx] == 1:\n",
        "          idx += 1\n",
        "      context_end = idx - 1\n",
        "\n",
        "      # If the answer is not fully inside the context, label is (0, 0)\n",
        "      if offset[context_start][0] > start_char or offset[context_end][1] < end_char:\n",
        "          start_positions.append(0)\n",
        "          end_positions.append(0)\n",
        "      else:\n",
        "          # Otherwise it's the start and end token positions\n",
        "          idx = context_start\n",
        "          while idx <= context_end and offset[idx][0] <= start_char:\n",
        "              idx += 1\n",
        "          start_positions.append(idx - 1)\n",
        "\n",
        "          idx = context_end\n",
        "          while idx >= context_start and offset[idx][1] >= end_char:\n",
        "              idx -= 1\n",
        "          end_positions.append(idx + 1)\n",
        "\n",
        "  encodings.update({'start_positions': start_positions, 'end_positions': end_positions})\n",
        "\n",
        "add_token_positions(train_encodings, train_answers)\n",
        "add_token_positions(val_encodings, val_answers)"
      ]
    },
    {
      "cell_type": "markdown",
      "metadata": {
        "id": "6JNdLyE97io2"
      },
      "source": [
        "## ***Step 5:*** Create a Dataset class"
      ]
    },
    {
      "cell_type": "markdown",
      "metadata": {
        "id": "iU4mORGW7ttP"
      },
      "source": [
        "Create a SQuAD dataset class to pass the inputs to the model"
      ]
    },
    {
      "cell_type": "code",
      "execution_count": null,
      "metadata": {
        "id": "FjYzrXas3yhy"
      },
      "outputs": [],
      "source": [
        "class SquadDataset(torch.utils.data.Dataset):\n",
        "    def __init__(self, encodings):\n",
        "        self.encodings = encodings\n",
        "\n",
        "    def __getitem__(self, idx):\n",
        "        return {key: torch.tensor(val[idx]) for key, val in self.encodings.items()}\n",
        "\n",
        "    def __len__(self):\n",
        "        return len(self.encodings.input_ids)"
      ]
    },
    {
      "cell_type": "code",
      "execution_count": null,
      "metadata": {
        "id": "fHGYpU8x8GCT"
      },
      "outputs": [],
      "source": [
        "train_dataset = SquadDataset(train_encodings)\n",
        "val_dataset = SquadDataset(val_encodings)"
      ]
    },
    {
      "cell_type": "code",
      "execution_count": null,
      "metadata": {
        "id": "XCohXB_R8HkC"
      },
      "outputs": [],
      "source": [
        "seed = 42\n",
        "torch.manual_seed(seed)\n",
        "np.random.seed(seed)\n",
        "\n",
        "train_loader = DataLoader(train_dataset, batch_size=8, shuffle=True, num_workers=2, worker_init_fn=np.random.seed(seed))\n",
        "val_loader = DataLoader(val_dataset, batch_size=8, shuffle=True, num_workers=2, worker_init_fn=np.random.seed(seed))"
      ]
    },
    {
      "cell_type": "markdown",
      "metadata": {
        "id": "M58QEXOB9nfF"
      },
      "source": [
        "## ***Step 6:*** Use GPU"
      ]
    },
    {
      "cell_type": "code",
      "execution_count": null,
      "metadata": {
        "id": "N12rPAE39QS0"
      },
      "outputs": [],
      "source": [
        "device = torch.device('cuda:0' if torch.cuda.is_available()\n",
        "                      else 'cpu')\n"
      ]
    },
    {
      "cell_type": "markdown",
      "metadata": {
        "id": "ctnv1lVt-Na_"
      },
      "source": [
        "## ***Step 7:*** Creating QA model from scratch using BERT"
      ]
    },
    {
      "cell_type": "code",
      "source": [
        "from transformers import BertModel\n",
        "from transformers import DataCollatorWithPadding,AutoModelForSequenceClassification, Trainer, TrainingArguments,AutoTokenizer,AutoModel,AutoConfig\n",
        "from transformers.modeling_outputs import TokenClassifierOutput\n",
        "import torch\n",
        "import torch.nn as nn\n",
        "import pandas as pd"
      ],
      "metadata": {
        "id": "AjTDg1XOZdn0"
      },
      "execution_count": null,
      "outputs": []
    },
    {
      "cell_type": "code",
      "source": [
        "class CustomModel(nn.Module):\n",
        "  def __init__(self,num_labels):\n",
        "    super(CustomModel,self).__init__()\n",
        "    self.num_labels = num_labels\n",
        "\n",
        "    #Load Model with given checkpoint and extract its body\n",
        "    self.model= BertModel.from_pretrained('bert-base-uncased',output_attentions=True,output_hidden_states=True)\n",
        "    self.second_hidden=nn.Linear(768,512)\n",
        "    self.act=nn.ReLU()\n",
        "    self.dropout=nn.Dropout(0.2)\n",
        "    self.classifier = nn.Linear(512,num_labels) # load and initialize weights\n",
        "\n",
        "\n",
        "  def forward(self, input_ids=None, attention_mask=None,start_positions=None,end_positions=None):\n",
        "    #Extract outputs from the body\n",
        "    sequence_output= self.model(input_ids=input_ids, attention_mask=attention_mask)\n",
        "\n",
        "    seq=sequence_output.last_hidden_state\n",
        "    seq1=self.second_hidden(seq)\n",
        "    sequence_output1=self.act(seq1)\n",
        "    sequence_outputs=self.dropout(sequence_output1)\n",
        "    logits = self.classifier(sequence_outputs)  # Assuming this outputs a single tensor\n",
        "    logits=nn.functional.softmax(logits,dim=1)\n",
        "\n",
        "    # Split the logits into start and end logits\n",
        "    start_logits, end_logits = logits[:, :, 0].squeeze(),logits[:,:,1].squeeze()\n",
        "    # start_logits_ind=torch.argmax(start_logits,axis=1)\n",
        "    # end_logits_ind=torch.argmax(end_logits,axis=1)\n",
        "\n",
        "    loss = 0\n",
        "    if (start_positions is not None) and (end_positions is not None):\n",
        "      loss1=loss2=0\n",
        "      for i in range(logits.shape[0]):\n",
        "        loss1=loss1-torch.log(start_logits[i][start_positions[i]])\n",
        "        loss2=loss2-torch.log(end_logits[i][end_positions[i]])\n",
        "      loss = loss1 + loss2\n",
        "    return TokenClassifierOutput(loss=loss, logits=logits, hidden_states=sequence_output.hidden_states,attentions=sequence_output.attentions)"
      ],
      "metadata": {
        "id": "WZ8JvfrhYGAE"
      },
      "execution_count": null,
      "outputs": []
    },
    {
      "cell_type": "code",
      "source": [
        "model=CustomModel(num_labels=2).to(device)"
      ],
      "metadata": {
        "id": "I78CRdB-ezPW"
      },
      "execution_count": null,
      "outputs": []
    },
    {
      "cell_type": "code",
      "source": [
        "from transformers import AdamW,get_scheduler\n",
        "\n",
        "optimizer = AdamW(model.parameters(), lr=5e-5)\n",
        "\n",
        "num_epochs = 3\n",
        "num_training_steps = num_epochs * len(train_loader)\n",
        "lr_scheduler = get_scheduler(\n",
        "    \"linear\",\n",
        "    optimizer=optimizer,\n",
        "    num_warmup_steps=0,\n",
        "    num_training_steps=num_training_steps,\n",
        ")\n",
        "print(num_training_steps)"
      ],
      "metadata": {
        "colab": {
          "base_uri": "https://localhost:8080/"
        },
        "id": "keY1D9lneoLT",
        "outputId": "2675fec1-1596-4fd1-c1d9-e9f65881d265"
      },
      "execution_count": null,
      "outputs": [
        {
          "output_type": "stream",
          "name": "stderr",
          "text": [
            "/usr/local/lib/python3.10/dist-packages/transformers/optimization.py:411: FutureWarning: This implementation of AdamW is deprecated and will be removed in a future version. Use the PyTorch implementation torch.optim.AdamW instead, or set `no_deprecation_warning=True` to disable this warning\n",
            "  warnings.warn(\n"
          ]
        },
        {
          "output_type": "stream",
          "name": "stdout",
          "text": [
            "15015\n"
          ]
        }
      ]
    },
    {
      "cell_type": "code",
      "source": [
        "from datasets import load_metric\n",
        "metric = load_metric(\"f1\")"
      ],
      "metadata": {
        "colab": {
          "base_uri": "https://localhost:8080/"
        },
        "id": "GqmvV9izfp6W",
        "outputId": "06e14a65-9e0a-40c0-bdbf-a65c701d05ca"
      },
      "execution_count": null,
      "outputs": [
        {
          "output_type": "stream",
          "name": "stderr",
          "text": [
            "<ipython-input-32-e4b2221a8929>:2: FutureWarning: load_metric is deprecated and will be removed in the next major version of datasets. Use 'evaluate.load' instead, from the new library 🤗 Evaluate: https://huggingface.co/docs/evaluate\n",
            "  metric = load_metric(\"f1\")\n"
          ]
        }
      ]
    },
    {
      "cell_type": "code",
      "execution_count": null,
      "metadata": {
        "id": "unmSIjkW-ZEH"
      },
      "outputs": [],
      "source": [
        "# model = BertForQuestionAnswering.from_pretrained('bert-base-uncased').to(device)\n",
        "# optim = AdamW(model.parameters(), lr=5e-4)\n",
        "# # optim = AdamW(model.parameters(), lr=5e-5)\n",
        "# # optim = AdamW(model.parameters(), lr=5e-6)\n",
        "\n",
        "# # epochs = 2\n",
        "# epochs = 3\n",
        "# # epochs = 4"
      ]
    },
    {
      "cell_type": "markdown",
      "metadata": {
        "id": "Qe29xEPB_DvT"
      },
      "source": [
        "## ***Step 8:*** Train and Evaluate Model"
      ]
    },
    {
      "cell_type": "code",
      "execution_count": null,
      "metadata": {
        "colab": {
          "base_uri": "https://localhost:8080/"
        },
        "id": "3qkwmHdB_DKI",
        "outputId": "75a8fe89-f984-442c-f02a-54b2c7d970d3"
      },
      "outputs": [
        {
          "output_type": "stream",
          "name": "stdout",
          "text": [
            "############Train############\n",
            "Batch 1000 / 5005 \n",
            "Loss: 22.64 \n",
            "\n",
            "Batch 2000 / 5005 \n",
            "Loss: 23.35 \n",
            "\n",
            "Batch 3000 / 5005 \n",
            "Loss: 17.29 \n",
            "\n",
            "Batch 4000 / 5005 \n",
            "Loss: 16.61 \n",
            "\n",
            "Batch 5000 / 5005 \n",
            "Loss: 18.31 \n",
            "\n",
            "############Evaluate############\n",
            "\n",
            "-------Epoch  1 -------\n",
            "Training Loss: 23.48715936599316 \n",
            "Validation Loss: 24.436480738095927 \n",
            "Time:  4009.7379331588745 \n",
            "----------------------- \n",
            "\n",
            "\n",
            "############Train############\n",
            "Batch 1000 / 5005 \n",
            "Loss: 13.47 \n",
            "\n",
            "Batch 2000 / 5005 \n",
            "Loss: 30.62 \n",
            "\n",
            "Batch 3000 / 5005 \n",
            "Loss: 7.2 \n",
            "\n",
            "Batch 4000 / 5005 \n",
            "Loss: 12.23 \n",
            "\n",
            "Batch 5000 / 5005 \n",
            "Loss: 11.45 \n",
            "\n",
            "############Evaluate############\n",
            "\n",
            "-------Epoch  2 -------\n",
            "Training Loss: 13.577309691489159 \n",
            "Validation Loss: 29.410927769573984 \n",
            "Time:  4006.398639678955 \n",
            "----------------------- \n",
            "\n",
            "\n",
            "############Train############\n",
            "Batch 1000 / 5005 \n",
            "Loss: 11.72 \n",
            "\n",
            "Batch 2000 / 5005 \n",
            "Loss: 15.62 \n",
            "\n",
            "Batch 3000 / 5005 \n",
            "Loss: 9.78 \n",
            "\n",
            "Batch 4000 / 5005 \n",
            "Loss: 11.53 \n",
            "\n",
            "Batch 5000 / 5005 \n",
            "Loss: 6.83 \n",
            "\n",
            "############Evaluate############\n",
            "\n",
            "-------Epoch  3 -------\n",
            "Training Loss: 9.608359464077088 \n",
            "Validation Loss: 26.27705701315053 \n",
            "Time:  4008.212886571884 \n",
            "----------------------- \n",
            "\n",
            "\n",
            "Total training and evaluation time:  12024.35752773285\n"
          ]
        }
      ],
      "source": [
        "epochs=3\n",
        "whole_train_eval_time = time.time()\n",
        "\n",
        "train_losses = []\n",
        "val_losses = []\n",
        "print_every = 1000\n",
        "\n",
        "for epoch in range(epochs):\n",
        "  epoch_time = time.time()\n",
        "\n",
        "  # Set model in train mode\n",
        "  model.train()\n",
        "\n",
        "  loss_of_epoch = 0\n",
        "\n",
        "  print(\"############Train############\")\n",
        "\n",
        "  for batch_idx,batch in enumerate(train_loader):\n",
        "\n",
        "    optimizer.zero_grad()\n",
        "\n",
        "    input_ids = batch['input_ids'].to(device)\n",
        "    attention_mask = batch['attention_mask'].to(device)\n",
        "    start_positions = batch['start_positions'].to(device)\n",
        "    end_positions = batch['end_positions'].to(device)\n",
        "\n",
        "    outputs = model(input_ids, attention_mask=attention_mask, start_positions=start_positions, end_positions=end_positions)\n",
        "    loss = outputs[0]\n",
        "    # do a backwards pass\n",
        "    loss.backward()\n",
        "    # update the weights\n",
        "    optimizer.step()\n",
        "    # Find the total loss\n",
        "    loss_of_epoch += loss.item()\n",
        "\n",
        "    if (batch_idx+1) % print_every == 0:\n",
        "      print(\"Batch {:} / {:}\".format(batch_idx+1,len(train_loader)),\"\\nLoss:\", round(loss.item(),2),\"\\n\")\n",
        "\n",
        "  loss_of_epoch /= len(train_loader)\n",
        "  train_losses.append(loss_of_epoch)\n",
        "\n",
        "\n",
        "  model.eval()\n",
        "\n",
        "  print(\"############Evaluate############\")\n",
        "\n",
        "  loss_of_epoch = 0\n",
        "\n",
        "  for batch_idx,batch in enumerate(val_loader):\n",
        "\n",
        "    with torch.no_grad():\n",
        "\n",
        "      input_ids = batch['input_ids'].to(device)\n",
        "      attention_mask = batch['attention_mask'].to(device)\n",
        "      start_positions = batch['start_positions'].to(device)\n",
        "      end_positions = batch['end_positions'].to(device)\n",
        "\n",
        "      outputs = model(input_ids=input_ids, attention_mask=attention_mask, start_positions=start_positions, end_positions=end_positions)\n",
        "      loss = outputs[0]\n",
        "      # Find the total loss\n",
        "      loss_of_epoch += loss.item()\n",
        "\n",
        "    if (batch_idx+1) % print_every == 0:\n",
        "       print(\"Batch {:} / {:}\".format(batch_idx+1,len(val_loader)),\"\\nLoss:\", round(loss.item(),1),\"\\n\")\n",
        "\n",
        "  loss_of_epoch /= len(val_loader)\n",
        "  val_losses.append(loss_of_epoch)\n",
        "\n",
        "  # Print each epoch's time and train/val loss\n",
        "  print(\"\\n-------Epoch \", epoch+1,\n",
        "        \"-------\"\n",
        "        \"\\nTraining Loss:\", train_losses[-1],\n",
        "        \"\\nValidation Loss:\", val_losses[-1],\n",
        "        \"\\nTime: \",(time.time() - epoch_time),\n",
        "        \"\\n-----------------------\",\n",
        "        \"\\n\\n\")\n",
        "\n",
        "print(\"Total training and evaluation time: \", (time.time() - whole_train_eval_time))"
      ]
    },
    {
      "cell_type": "code",
      "execution_count": null,
      "metadata": {
        "id": "-p_ZgHMgR9Vq"
      },
      "outputs": [],
      "source": [
        "# Save model\n",
        "torch.save(model,\"/content/drive/MyDrive/data/sc_40k_d_5\")"
      ]
    },
    {
      "cell_type": "markdown",
      "metadata": {
        "id": "41ZatksYHP_p"
      },
      "source": [
        "## ***Step 12:*** Plot train and validation losses"
      ]
    },
    {
      "cell_type": "code",
      "execution_count": null,
      "metadata": {
        "id": "Daxw8aQMHPTV",
        "colab": {
          "base_uri": "https://localhost:8080/",
          "height": 900
        },
        "outputId": "a3cf16fd-80f8-4190-ccdb-5d09cfc9d6ec"
      },
      "outputs": [
        {
          "output_type": "display_data",
          "data": {
            "text/plain": [
              "<Figure size 1500x1000 with 1 Axes>"
            ],
            "image/png": "[encoded data removed]"
          },
          "metadata": {}
        }
      ],
      "source": [
        "import matplotlib.pyplot as plt\n",
        "\n",
        "fig,ax = plt.subplots(1,1,figsize=(15,10))\n",
        "\n",
        "ax.set_title(\"Train and Validation Losses\",size=20)\n",
        "ax.set_ylabel('Loss', fontsize = 20)\n",
        "ax.set_xlabel('Epochs', fontsize = 25)\n",
        "_=ax.plot(train_losses)\n",
        "_=ax.plot(val_losses)\n",
        "_=ax.legend(('Train','Val'),loc='upper right')\n",
        "\n",
        "plt.savefig(\"/content/drive/MyDrive/data/EVL/sc_40k_5_d.png\")"
      ]
    },
    {
      "cell_type": "code",
      "source": [],
      "metadata": {
        "id": "-7JDrZ-OyBNY"
      },
      "execution_count": null,
      "outputs": []
    }
  ],
  "metadata": {
    "colab": {
      "provenance": [],
      "gpuType": "T4"
    },
    "kernelspec": {
      "display_name": "Python 3",
      "name": "python3"
    },
    "language_info": {
      "codemirror_mode": {
        "name": "ipython",
        "version": 3
      },
      "file_extension": ".py",
      "mimetype": "text/x-python",
      "name": "python",
      "nbconvert_exporter": "python",
      "pygments_lexer": "ipython3",
      "version": "3.9.13"
    },
    "accelerator": "GPU"
  },
  "nbformat": 4,
  "nbformat_minor": 0
}