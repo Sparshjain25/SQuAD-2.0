{
  "cells": [
    {
      "cell_type": "code",
      "execution_count": null,
      "metadata": {
        "colab": {
          "base_uri": "https://localhost:8080/"
        },
        "id": "tb2BP-P2YGg6",
        "outputId": "4a119033-c9d9-4ebc-ddcb-167ad87f2756"
      },
      "outputs": [
        {
          "output_type": "stream",
          "name": "stdout",
          "text": [
            "Drive already mounted at /content/drive; to attempt to forcibly remount, call drive.mount(\"/content/drive\", force_remount=True).\n"
          ]
        }
      ],
      "source": [
        "from google.colab import drive\n",
        "drive.mount('/content/drive')"
      ]
    },
    {
      "cell_type": "code",
      "execution_count": null,
      "metadata": {
        "id": "v5Jlcrg0ghs-"
      },
      "outputs": [],
      "source": [
        "import json\n",
        "from pathlib import Path\n",
        "import torch\n",
        "from torch.utils.data import DataLoader\n",
        "import time\n",
        "import numpy as np"
      ]
    },
    {
      "cell_type": "markdown",
      "metadata": {
        "id": "9G6iYKZ7gRWr"
      },
      "source": [
        "## ***Step 1:*** Load Data"
      ]
    },
    {
      "cell_type": "markdown",
      "metadata": {
        "id": "XjZ1sdQVhCVf"
      },
      "source": [
        "Load the json files for train and validation, into lists of texts, queries, answers"
      ]
    },
    {
      "cell_type": "code",
      "execution_count": null,
      "metadata": {
        "id": "6b2EMVb-fhwA"
      },
      "outputs": [],
      "source": [
        "# Give the path for train data\n",
        "path = Path('/content/drive/MyDrive/Colab Notebooks/NLP/data/train-v2.0.json')\n",
        "#path = Path('train-v2.0.json')\n",
        "\n",
        "# Open .json file\n",
        "with open(path, 'rb') as f:\n",
        "    squad_dict = json.load(f)\n",
        "\n",
        "texts = []\n",
        "queries = []\n",
        "answers = []\n",
        "\n",
        "# Search for each passage, its question and its answer\n",
        "for group in squad_dict['data']:\n",
        "    for passage in group['paragraphs']:\n",
        "        context = passage['context']\n",
        "        for qa in passage['qas']:\n",
        "            question = qa['question']\n",
        "            # Store context, queries and answers of incorrect questions with no answers\n",
        "            if(qa['answers'] == []):\n",
        "                texts.append(context)\n",
        "                queries.append(question)\n",
        "                answers.append({'text':'', 'answer_start':-1})\n",
        "            else:\n",
        "                for answer in qa['answers']:\n",
        "                    # Store every passage, query and its answer to the lists\n",
        "                    texts.append(context)\n",
        "                    queries.append(question)\n",
        "                    answers.append(answer)\n",
        "\n",
        "train_texts, train_queries, train_answers = texts, queries, answers"
      ]
    },
    {
      "cell_type": "code",
      "execution_count": null,
      "metadata": {
        "id": "_JPP5Daci2V8"
      },
      "outputs": [],
      "source": [
        "# Give the path for validation data\n",
        "path = Path('/content/drive/MyDrive/Colab Notebooks/NLP/data/dev-v2.0.json')\n",
        "#path = Path('dev-v2.0.json')\n",
        "\n",
        "# Open .json file\n",
        "with open(path, 'rb') as f:\n",
        "    squad_dict = json.load(f)\n",
        "\n",
        "texts = []\n",
        "queries = []\n",
        "answers = []\n",
        "num = 0\n",
        "\n",
        "# Search for each passage, its question and its answer\n",
        "for group in squad_dict['data']:\n",
        "    for passage in group['paragraphs']:\n",
        "        num += 1\n",
        "        context = passage['context']\n",
        "        for qa in passage['qas']:\n",
        "            question = qa['question']\n",
        "            # Store context, queries and answers of incorrect questions\n",
        "            if(qa['answers'] == []):\n",
        "                texts.append(context)\n",
        "                queries.append(question)\n",
        "                answers.append({'text':'', 'answer_start':-1})\n",
        "            else:\n",
        "                for answer in qa['answers']:\n",
        "                    # Store every passage, query and its answer to the lists\n",
        "                    texts.append(context)\n",
        "                    queries.append(question)\n",
        "                    answers.append(answer)\n",
        "\n",
        "val_texts, val_queries, val_answers = texts, queries, answers"
      ]
    },
    {
      "cell_type": "markdown",
      "metadata": {
        "id": "PEN89d8Mjlw3"
      },
      "source": [
        "## ***Step 2:*** Understanding Data"
      ]
    },
    {
      "cell_type": "code",
      "execution_count": null,
      "metadata": {
        "colab": {
          "base_uri": "https://localhost:8080/"
        },
        "id": "w3f9hbvMjJ1b",
        "outputId": "c19970c7-0724-4575-e017-7b17301fb217"
      },
      "outputs": [
        {
          "output_type": "stream",
          "name": "stdout",
          "text": [
            "130319\n",
            "130319\n",
            "130319\n",
            "19029\n"
          ]
        }
      ],
      "source": [
        "print(len(train_texts))\n",
        "print(len(train_queries))\n",
        "print(len(train_answers))\n",
        "print(len(np.unique(train_texts)))"
      ]
    },
    {
      "cell_type": "markdown",
      "metadata": {
        "id": "2vsBYrSpkOB6"
      },
      "source": [
        "As you can see we have 130319 rows with 19,029 unique passages"
      ]
    },
    {
      "cell_type": "code",
      "execution_count": null,
      "metadata": {
        "colab": {
          "base_uri": "https://localhost:8080/"
        },
        "id": "xPrlBV3hkJSe",
        "outputId": "d2b33434-b61f-4bf9-cd24-0249bf4499c4"
      },
      "outputs": [
        {
          "output_type": "stream",
          "name": "stdout",
          "text": [
            "Passage:  Beyoncé Giselle Knowles-Carter (/biːˈjɒnseɪ/ bee-YON-say) (born September 4, 1981) is an American singer, songwriter, record producer and actress. Born and raised in Houston, Texas, she performed in various singing and dancing competitions as a child, and rose to fame in the late 1990s as lead singer of R&B girl-group Destiny's Child. Managed by her father, Mathew Knowles, the group became one of the world's best-selling girl groups of all time. Their hiatus saw the release of Beyoncé's debut album, Dangerously in Love (2003), which established her as a solo artist worldwide, earned five Grammy Awards and featured the Billboard Hot 100 number-one singles \"Crazy in Love\" and \"Baby Boy\".\n",
            "\n",
            "Query:  When did Beyonce start becoming popular?\n",
            "\n",
            "Answer:  {'text': 'in the late 1990s', 'answer_start': 269}\n"
          ]
        }
      ],
      "source": [
        "# Sample data point in training data\n",
        "print(\"Passage: \",train_texts[0])\n",
        "print()\n",
        "print(\"Query: \",train_queries[0])\n",
        "print()\n",
        "print(\"Answer: \",train_answers[0])"
      ]
    },
    {
      "cell_type": "code",
      "execution_count": null,
      "metadata": {
        "colab": {
          "base_uri": "https://localhost:8080/"
        },
        "id": "Zdm4yN_BLGOm",
        "outputId": "a6a5ab49-695a-4946-e964-cc06fcc685c2"
      },
      "outputs": [
        {
          "output_type": "stream",
          "name": "stdout",
          "text": [
            "Passage:  The Normans (Norman: Nourmands; French: Normands; Latin: Normanni) were the people who in the 10th and 11th centuries gave their name to Normandy, a region in France. They were descended from Norse (\"Norman\" comes from \"Norseman\") raiders and pirates from Denmark, Iceland and Norway who, under their leader Rollo, agreed to swear fealty to King Charles III of West Francia. Through generations of assimilation and mixing with the native Frankish and Roman-Gaulish populations, their descendants would gradually merge with the Carolingian-based cultures of West Francia. The distinct cultural and ethnic identity of the Normans emerged initially in the first half of the 10th century, and it continued to evolve over the succeeding centuries.\n",
            "\n",
            "Query:  In what country is Normandy located?\n",
            "\n",
            "Answer:  {'text': 'France', 'answer_start': 159}\n"
          ]
        }
      ],
      "source": [
        "# Sample data point in validation data\n",
        "print(\"Passage: \",val_texts[0])\n",
        "print()\n",
        "print(\"Query: \",val_queries[0])\n",
        "print()\n",
        "print(\"Answer: \",val_answers[0])"
      ]
    },
    {
      "cell_type": "code",
      "execution_count": null,
      "metadata": {
        "colab": {
          "base_uri": "https://localhost:8080/"
        },
        "id": "bMs6opQPlLBE",
        "outputId": "af527409-1b38-407f-878d-527ee5617c7b"
      },
      "outputs": [
        {
          "output_type": "stream",
          "name": "stdout",
          "text": [
            "13220\n",
            "13220\n",
            "13220\n",
            "646\n",
            "646\n"
          ]
        }
      ],
      "source": [
        "print(len(val_texts))\n",
        "print(len(val_queries))\n",
        "print(len(val_answers))\n",
        "print(num)\n",
        "print(len(np.unique(val_texts)))"
      ]
    },
    {
      "cell_type": "markdown",
      "metadata": {
        "id": "6JCAvOgalXbh"
      },
      "source": [
        "As you can see we have 13220 rows with 646 unique passages"
      ]
    },
    {
      "cell_type": "code",
      "source": [
        "# Check the number of incorrect questions in the training data\n",
        "ctr = 0\n",
        "for i in train_answers:\n",
        "  if len(i['text']) == 0:\n",
        "    ctr += 1\n",
        "\n",
        "print(\"Number of invalid questions: \", ctr)"
      ],
      "metadata": {
        "colab": {
          "base_uri": "https://localhost:8080/"
        },
        "id": "YeAJ7qZpdLxb",
        "outputId": "94446f8b-f1cc-478a-f5ac-4eb2ebc9fc43"
      },
      "execution_count": null,
      "outputs": [
        {
          "output_type": "stream",
          "name": "stdout",
          "text": [
            "Number of invalid questions:  43498\n"
          ]
        }
      ]
    },
    {
      "cell_type": "markdown",
      "source": [
        "## ***Step 3:*** Data Preprocessing"
      ],
      "metadata": {
        "id": "DVQ0AHOwlpsk"
      }
    },
    {
      "cell_type": "markdown",
      "metadata": {
        "id": "_QFwoBu7gOac"
      },
      "source": [
        "Shorten the data to make it less computationally expensive"
      ]
    },
    {
      "cell_type": "code",
      "execution_count": null,
      "metadata": {
        "id": "QsxbrdQBIN4l"
      },
      "outputs": [],
      "source": [
        "train_texts = train_texts[:10000]\n",
        "train_queries = train_queries[:10000]\n",
        "train_answers = train_answers[:10000]\n",
        "\n",
        "val_texts = val_texts[:5000]\n",
        "val_queries = val_queries[:5000]\n",
        "val_answers = val_answers[:5000]"
      ]
    },
    {
      "cell_type": "code",
      "execution_count": null,
      "metadata": {
        "colab": {
          "base_uri": "https://localhost:8080/"
        },
        "id": "lq4GEXQ7IpwS",
        "outputId": "1b151bde-7c92-4ff8-8358-86ea616fddc0"
      },
      "outputs": [
        {
          "output_type": "stream",
          "name": "stdout",
          "text": [
            "10000\n",
            "10000\n",
            "10000\n"
          ]
        }
      ],
      "source": [
        "print(len(train_texts))\n",
        "print(len(train_queries))\n",
        "print(len(train_answers))"
      ]
    },
    {
      "cell_type": "code",
      "execution_count": null,
      "metadata": {
        "colab": {
          "base_uri": "https://localhost:8080/"
        },
        "id": "MQ3KHKIkIy0G",
        "outputId": "57058d5c-de99-410a-e7c3-73fd5c98621c"
      },
      "outputs": [
        {
          "output_type": "stream",
          "name": "stdout",
          "text": [
            "5000\n",
            "5000\n",
            "5000\n"
          ]
        }
      ],
      "source": [
        "print(len(val_texts))\n",
        "print(len(val_queries))\n",
        "print(len(val_answers))"
      ]
    },
    {
      "cell_type": "markdown",
      "metadata": {
        "id": "kNAThgIvq_4S"
      },
      "source": [
        "Find end position character in train data"
      ]
    },
    {
      "cell_type": "code",
      "execution_count": null,
      "metadata": {
        "id": "qlexBsEcnI77"
      },
      "outputs": [],
      "source": [
        "for answer, text in zip(train_answers, train_texts):\n",
        "    real_answer = answer['text']\n",
        "    start_idx = answer['answer_start']\n",
        "    # Get the end index\n",
        "    end_idx = start_idx + len(real_answer)"
      ]
    },
    {
      "cell_type": "markdown",
      "metadata": {
        "id": "aEzbDWC1sPEn"
      },
      "source": [
        "Find end position character in validation data"
      ]
    },
    {
      "cell_type": "code",
      "execution_count": null,
      "metadata": {
        "id": "Xe2_AZszsRqr"
      },
      "outputs": [],
      "source": [
        "for answer, text in zip(val_answers, val_texts):\n",
        "    real_answer = answer['text']\n",
        "    start_idx = answer['answer_start']\n",
        "    # Get the end index\n",
        "    end_idx = start_idx + len(real_answer)"
      ]
    },
    {
      "cell_type": "markdown",
      "metadata": {
        "id": "83nKp3c5tU7A"
      },
      "source": [
        "## ***Step 4:*** Tokenize queries and passages"
      ]
    },
    {
      "cell_type": "markdown",
      "metadata": {
        "id": "boxZGej3t17f"
      },
      "source": [
        "Tokenizing using Bert based AutoTokenizer"
      ]
    },
    {
      "cell_type": "code",
      "execution_count": null,
      "metadata": {
        "id": "-dncUoMhtpWj"
      },
      "outputs": [],
      "source": [
        "from transformers import AutoTokenizer,AdamW,BertForQuestionAnswering\n",
        "tokenizer = AutoTokenizer.from_pretrained(\"bert-base-uncased\")\n",
        "\n",
        "train_encodings = tokenizer(train_queries, train_texts, truncation=True, padding = True, return_offsets_mapping=True, return_overflowing_tokens=True)\n",
        "val_encodings = tokenizer(val_queries, val_texts, truncation=True, padding = True, return_offsets_mapping=True, return_overflowing_tokens=True)"
      ]
    },
    {
      "cell_type": "markdown",
      "metadata": {
        "id": "WHaETr5izn0t"
      },
      "source": [
        "## ***Step 5:*** Convert the start-end positions to start-end tokens"
      ]
    },
    {
      "cell_type": "code",
      "execution_count": null,
      "metadata": {
        "id": "VHDTX4HZzN3e"
      },
      "outputs": [],
      "source": [
        "def add_token_positions(encodings, answers):\n",
        "  start_positions = []\n",
        "  end_positions = []\n",
        "\n",
        "  for i, offset in enumerate(encodings[\"offset_mapping\"]):\n",
        "      sample_idx = encodings[\"overflow_to_sample_mapping\"][i]\n",
        "      answer = answers[sample_idx]\n",
        "      start_char = answer[\"answer_start\"]\n",
        "      end_char = answer[\"answer_start\"] + len(answer[\"text\"])\n",
        "      sequence_ids = encodings.sequence_ids(i)\n",
        "\n",
        "      # Find the start and end of the context\n",
        "      idx = 0\n",
        "      while sequence_ids[idx] != 1:\n",
        "          idx += 1\n",
        "      context_start = idx\n",
        "      while sequence_ids[idx] == 1:\n",
        "          idx += 1\n",
        "      context_end = idx - 1\n",
        "\n",
        "      # If the answer is not fully inside the context, label is (0, 0)\n",
        "      if offset[context_start][0] > start_char or offset[context_end][1] < end_char:\n",
        "          start_positions.append(0)\n",
        "          end_positions.append(0)\n",
        "      else:\n",
        "          # Otherwise it's the start and end token positions\n",
        "          idx = context_start\n",
        "          while idx <= context_end and offset[idx][0] <= start_char:\n",
        "              idx += 1\n",
        "          start_positions.append(idx - 1)\n",
        "\n",
        "          idx = context_end\n",
        "          while idx >= context_start and offset[idx][1] >= end_char:\n",
        "              idx -= 1\n",
        "          end_positions.append(idx + 1)\n",
        "\n",
        "  encodings.update({'start_positions': start_positions, 'end_positions': end_positions})\n",
        "\n",
        "add_token_positions(train_encodings, train_answers)\n",
        "add_token_positions(val_encodings, val_answers)"
      ]
    },
    {
      "cell_type": "markdown",
      "source": [
        "Understanding the encodings:"
      ],
      "metadata": {
        "id": "iBSHxbuGnGU4"
      }
    },
    {
      "cell_type": "code",
      "source": [
        "train_encodings.keys()"
      ],
      "metadata": {
        "colab": {
          "base_uri": "https://localhost:8080/"
        },
        "id": "ojbZSgESK0lW",
        "outputId": "e980c70d-46e2-479b-c0eb-877a3cdaaa31"
      },
      "execution_count": null,
      "outputs": [
        {
          "output_type": "execute_result",
          "data": {
            "text/plain": [
              "dict_keys(['input_ids', 'token_type_ids', 'attention_mask', 'offset_mapping', 'overflow_to_sample_mapping', 'start_positions', 'end_positions'])"
            ]
          },
          "metadata": {},
          "execution_count": 22
        }
      ]
    },
    {
      "cell_type": "code",
      "source": [
        "#Comparing original answer to decoded answer using start/end tokens\n",
        "idx = 3000\n",
        "sample_idx = train_encodings['overflow_to_sample_mapping'][idx]\n",
        "answer = train_answers[sample_idx]['text']\n",
        "\n",
        "start = train_encodings['start_positions'][idx]\n",
        "end = train_encodings['end_positions'][idx]\n",
        "labeled_answer = tokenizer.decode(train_encodings['input_ids'][idx][start:end+1])\n",
        "\n",
        "print(answer,\"---\", labeled_answer)"
      ],
      "metadata": {
        "id": "T_BtncPaX7sH",
        "colab": {
          "base_uri": "https://localhost:8080/"
        },
        "outputId": "1b30e19d-125d-40d6-e926-1d40364afe5b"
      },
      "execution_count": null,
      "outputs": [
        {
          "output_type": "stream",
          "name": "stdout",
          "text": [
            "2.3 metres --- 2. 3 metres\n"
          ]
        }
      ]
    },
    {
      "cell_type": "code",
      "source": [
        "# Decoding the encodings to view how the input looks\n",
        "decoded_example = tokenizer.decode(train_encodings['input_ids'][idx])\n",
        "print(decoded_example)"
      ],
      "metadata": {
        "colab": {
          "base_uri": "https://localhost:8080/"
        },
        "id": "Hc_vPuMb25T_",
        "outputId": "ee4c0e49-8877-4066-9840-d4cb567ca288"
      },
      "execution_count": null,
      "outputs": [
        {
          "output_type": "stream",
          "name": "stdout",
          "text": [
            "[CLS] what was the horizontal average slip on the guanxian - anxian fault? [SEP] the longmen shan fault system is situated in the eastern border of the tibetan plateau and contains several faults. this earthquake ruptured at least two imbricate structures in longmen shan fault system, i. e. the beichuan fault and the guanxian – anxian fault. in the epicentral area, the average slip in beichuan fault was about 3. 5 metres ( 11 ft ) vertical, 3. 5 metres ( 11 ft ) horizontal - parallel to the fault, and 4. 8 metres ( 16 ft ) horizontal - perpendicular to the fault. in the area about 30 kilometres ( 19 mi ) northeast of the epicenter, the surface slip on beichuan fault was almost purely dextral strike - slip up to about 3 metres ( 9. 8 ft ), while the average slip in guanxian – anxian fault was about 2 metres ( 6 ft 7 in ) vertical and 2. 3 metres ( 7 ft 7 in ) horizontal. [SEP] [PAD] [PAD] [PAD] [PAD] [PAD] [PAD] [PAD] [PAD] [PAD] [PAD] [PAD] [PAD] [PAD] [PAD] [PAD] [PAD] [PAD] [PAD] [PAD] [PAD] [PAD] [PAD] [PAD] [PAD] [PAD] [PAD] [PAD] [PAD] [PAD] [PAD] [PAD] [PAD] [PAD] [PAD] [PAD] [PAD] [PAD] [PAD] [PAD] [PAD] [PAD] [PAD] [PAD] [PAD] [PAD] [PAD] [PAD] [PAD] [PAD] [PAD] [PAD] [PAD] [PAD] [PAD] [PAD] [PAD] [PAD] [PAD] [PAD] [PAD] [PAD] [PAD] [PAD] [PAD] [PAD] [PAD] [PAD] [PAD] [PAD] [PAD] [PAD] [PAD] [PAD] [PAD] [PAD] [PAD] [PAD] [PAD] [PAD] [PAD] [PAD] [PAD] [PAD] [PAD] [PAD] [PAD] [PAD] [PAD] [PAD] [PAD] [PAD] [PAD] [PAD] [PAD] [PAD] [PAD] [PAD] [PAD] [PAD] [PAD] [PAD] [PAD] [PAD] [PAD] [PAD] [PAD] [PAD] [PAD] [PAD] [PAD] [PAD] [PAD] [PAD] [PAD] [PAD] [PAD] [PAD] [PAD] [PAD] [PAD] [PAD] [PAD] [PAD] [PAD] [PAD] [PAD] [PAD] [PAD] [PAD] [PAD] [PAD] [PAD] [PAD] [PAD] [PAD] [PAD] [PAD] [PAD] [PAD] [PAD] [PAD] [PAD] [PAD] [PAD] [PAD] [PAD] [PAD] [PAD] [PAD] [PAD] [PAD] [PAD] [PAD] [PAD] [PAD] [PAD] [PAD] [PAD] [PAD] [PAD] [PAD] [PAD] [PAD] [PAD] [PAD] [PAD] [PAD] [PAD] [PAD] [PAD] [PAD] [PAD] [PAD] [PAD] [PAD] [PAD] [PAD] [PAD] [PAD] [PAD] [PAD] [PAD] [PAD] [PAD] [PAD] [PAD] [PAD] [PAD] [PAD] [PAD] [PAD] [PAD] [PAD] [PAD] [PAD] [PAD] [PAD] [PAD] [PAD] [PAD] [PAD] [PAD] [PAD] [PAD] [PAD] [PAD] [PAD] [PAD] [PAD] [PAD] [PAD] [PAD] [PAD] [PAD] [PAD] [PAD] [PAD] [PAD] [PAD] [PAD] [PAD] [PAD] [PAD] [PAD] [PAD] [PAD] [PAD] [PAD] [PAD] [PAD] [PAD] [PAD] [PAD] [PAD] [PAD] [PAD] [PAD] [PAD] [PAD] [PAD] [PAD] [PAD] [PAD] [PAD] [PAD] [PAD] [PAD] [PAD] [PAD] [PAD] [PAD] [PAD] [PAD] [PAD] [PAD] [PAD] [PAD] [PAD] [PAD] [PAD] [PAD] [PAD] [PAD] [PAD] [PAD] [PAD] [PAD] [PAD] [PAD] [PAD] [PAD] [PAD] [PAD] [PAD] [PAD] [PAD] [PAD] [PAD] [PAD] [PAD] [PAD] [PAD] [PAD] [PAD] [PAD] [PAD] [PAD] [PAD] [PAD] [PAD]\n"
          ]
        }
      ]
    },
    {
      "cell_type": "markdown",
      "metadata": {
        "id": "6JNdLyE97io2"
      },
      "source": [
        "## ***Step 6:*** Create a Dataset class"
      ]
    },
    {
      "cell_type": "markdown",
      "metadata": {
        "id": "iU4mORGW7ttP"
      },
      "source": [
        "Create a SquadDataset class to pass input into the model."
      ]
    },
    {
      "cell_type": "code",
      "execution_count": null,
      "metadata": {
        "id": "FjYzrXas3yhy"
      },
      "outputs": [],
      "source": [
        "class SquadDataset(torch.utils.data.Dataset):\n",
        "    def __init__(self, encodings):\n",
        "        self.encodings = encodings\n",
        "\n",
        "    def __getitem__(self, idx):\n",
        "        return {key: torch.tensor(val[idx]) for key, val in self.encodings.items()}\n",
        "\n",
        "    def __len__(self):\n",
        "        return len(self.encodings.input_ids)"
      ]
    },
    {
      "cell_type": "code",
      "execution_count": null,
      "metadata": {
        "id": "fHGYpU8x8GCT"
      },
      "outputs": [],
      "source": [
        "train_dataset = SquadDataset(train_encodings)\n",
        "val_dataset = SquadDataset(val_encodings)"
      ]
    },
    {
      "cell_type": "markdown",
      "metadata": {
        "id": "QegfQoBz832o"
      },
      "source": [
        "Load data using DataLoader"
      ]
    },
    {
      "cell_type": "code",
      "execution_count": null,
      "metadata": {
        "id": "XCohXB_R8HkC"
      },
      "outputs": [],
      "source": [
        "seed = 42\n",
        "torch.manual_seed(seed)\n",
        "np.random.seed(seed)\n",
        "\n",
        "train_loader = DataLoader(train_dataset, batch_size=8, shuffle=True, num_workers=2, worker_init_fn=np.random.seed(seed))\n",
        "val_loader = DataLoader(val_dataset, batch_size=8, shuffle=True, num_workers=2, worker_init_fn=np.random.seed(seed))"
      ]
    },
    {
      "cell_type": "markdown",
      "metadata": {
        "id": "M58QEXOB9nfF"
      },
      "source": [
        "## ***Step 7:*** Use GPU"
      ]
    },
    {
      "cell_type": "code",
      "execution_count": null,
      "metadata": {
        "id": "N12rPAE39QS0"
      },
      "outputs": [],
      "source": [
        "device = torch.device('cuda:0' if torch.cuda.is_available()\n",
        "                      else 'cpu')"
      ]
    },
    {
      "cell_type": "markdown",
      "metadata": {
        "id": "ctnv1lVt-Na_"
      },
      "source": [
        "## ***Step 8:*** Load the Bert model"
      ]
    },
    {
      "cell_type": "code",
      "execution_count": null,
      "metadata": {
        "colab": {
          "base_uri": "https://localhost:8080/",
          "height": 137,
          "referenced_widgets": [
            "d496660b2d374cc49657227c85d063b9",
            "2e164270b8724eb9b48f960c449d59ba",
            "e8c89ea62abf428096f50e8302c41e23",
            "d3543bec09bf45fd9b217994a24835b7",
            "fe45d171383a4780b9e819a96f4895c0",
            "b455a08ca542423f86bf22a845dbccce",
            "9b1302dd25324b7d96bd6a7cc581b47a",
            "250f15b64da549e5937cc47e4033e20e",
            "e11a7d2e5ef6405f9e56ec0d75cf3394",
            "69e6dd14433e4cc5bae42bb0a82f24d6",
            "3e72ce078c49417c8916e51c0468d8c5"
          ]
        },
        "id": "unmSIjkW-ZEH",
        "outputId": "b7154518-7246-40af-bff8-3892d873a05a"
      },
      "outputs": [
        {
          "output_type": "display_data",
          "data": {
            "text/plain": [
              "model.safetensors:   0%|          | 0.00/440M [00:00<?, ?B/s]"
            ],
            "application/vnd.jupyter.widget-view+json": {
              "version_major": 2,
              "version_minor": 0,
              "model_id": "d496660b2d374cc49657227c85d063b9"
            }
          },
          "metadata": {}
        },
        {
          "output_type": "stream",
          "name": "stderr",
          "text": [
            "Some weights of BertForQuestionAnswering were not initialized from the model checkpoint at bert-base-uncased and are newly initialized: ['qa_outputs.weight', 'qa_outputs.bias']\n",
            "You should probably TRAIN this model on a down-stream task to be able to use it for predictions and inference.\n",
            "/usr/local/lib/python3.10/dist-packages/transformers/optimization.py:411: FutureWarning: This implementation of AdamW is deprecated and will be removed in a future version. Use the PyTorch implementation torch.optim.AdamW instead, or set `no_deprecation_warning=True` to disable this warning\n",
            "  warnings.warn(\n"
          ]
        }
      ],
      "source": [
        "model = BertForQuestionAnswering.from_pretrained('bert-base-uncased').to(device)\n",
        "optim = AdamW(model.parameters(), lr=5e-5)\n",
        "# optim = AdamW(model.parameters(), lr=5e-6)\n",
        "# optim = AdamW(model.parameters(), lr=5e-4)\n",
        "\n",
        "# epochs = 2\n",
        "epochs = 3\n",
        "# epochs = 4"
      ]
    },
    {
      "cell_type": "code",
      "source": [
        "print(model)"
      ],
      "metadata": {
        "colab": {
          "base_uri": "https://localhost:8080/"
        },
        "id": "ieQKu6V2qgTF",
        "outputId": "5f9f6593-6d90-448b-e532-598ebcc034a3"
      },
      "execution_count": null,
      "outputs": [
        {
          "output_type": "stream",
          "name": "stdout",
          "text": [
            "BertForQuestionAnswering(\n",
            "  (bert): BertModel(\n",
            "    (embeddings): BertEmbeddings(\n",
            "      (word_embeddings): Embedding(30522, 768, padding_idx=0)\n",
            "      (position_embeddings): Embedding(512, 768)\n",
            "      (token_type_embeddings): Embedding(2, 768)\n",
            "      (LayerNorm): LayerNorm((768,), eps=1e-12, elementwise_affine=True)\n",
            "      (dropout): Dropout(p=0.1, inplace=False)\n",
            "    )\n",
            "    (encoder): BertEncoder(\n",
            "      (layer): ModuleList(\n",
            "        (0-11): 12 x BertLayer(\n",
            "          (attention): BertAttention(\n",
            "            (self): BertSelfAttention(\n",
            "              (query): Linear(in_features=768, out_features=768, bias=True)\n",
            "              (key): Linear(in_features=768, out_features=768, bias=True)\n",
            "              (value): Linear(in_features=768, out_features=768, bias=True)\n",
            "              (dropout): Dropout(p=0.1, inplace=False)\n",
            "            )\n",
            "            (output): BertSelfOutput(\n",
            "              (dense): Linear(in_features=768, out_features=768, bias=True)\n",
            "              (LayerNorm): LayerNorm((768,), eps=1e-12, elementwise_affine=True)\n",
            "              (dropout): Dropout(p=0.1, inplace=False)\n",
            "            )\n",
            "          )\n",
            "          (intermediate): BertIntermediate(\n",
            "            (dense): Linear(in_features=768, out_features=3072, bias=True)\n",
            "            (intermediate_act_fn): GELUActivation()\n",
            "          )\n",
            "          (output): BertOutput(\n",
            "            (dense): Linear(in_features=3072, out_features=768, bias=True)\n",
            "            (LayerNorm): LayerNorm((768,), eps=1e-12, elementwise_affine=True)\n",
            "            (dropout): Dropout(p=0.1, inplace=False)\n",
            "          )\n",
            "        )\n",
            "      )\n",
            "    )\n",
            "  )\n",
            "  (qa_outputs): Linear(in_features=768, out_features=2, bias=True)\n",
            ")\n"
          ]
        }
      ]
    },
    {
      "cell_type": "code",
      "source": [
        "print(model.config)"
      ],
      "metadata": {
        "colab": {
          "base_uri": "https://localhost:8080/"
        },
        "id": "uMSGo0kgrLpu",
        "outputId": "d7ff0b09-e985-43d1-cd68-c250ca92973d"
      },
      "execution_count": null,
      "outputs": [
        {
          "output_type": "stream",
          "name": "stdout",
          "text": [
            "BertConfig {\n",
            "  \"_name_or_path\": \"bert-base-uncased\",\n",
            "  \"architectures\": [\n",
            "    \"BertForMaskedLM\"\n",
            "  ],\n",
            "  \"attention_probs_dropout_prob\": 0.1,\n",
            "  \"classifier_dropout\": null,\n",
            "  \"gradient_checkpointing\": false,\n",
            "  \"hidden_act\": \"gelu\",\n",
            "  \"hidden_dropout_prob\": 0.1,\n",
            "  \"hidden_size\": 768,\n",
            "  \"initializer_range\": 0.02,\n",
            "  \"intermediate_size\": 3072,\n",
            "  \"layer_norm_eps\": 1e-12,\n",
            "  \"max_position_embeddings\": 512,\n",
            "  \"model_type\": \"bert\",\n",
            "  \"num_attention_heads\": 12,\n",
            "  \"num_hidden_layers\": 12,\n",
            "  \"pad_token_id\": 0,\n",
            "  \"position_embedding_type\": \"absolute\",\n",
            "  \"transformers_version\": \"4.35.2\",\n",
            "  \"type_vocab_size\": 2,\n",
            "  \"use_cache\": true,\n",
            "  \"vocab_size\": 30522\n",
            "}\n",
            "\n"
          ]
        }
      ]
    },
    {
      "cell_type": "markdown",
      "metadata": {
        "id": "Qe29xEPB_DvT"
      },
      "source": [
        "## ***Step 9:*** Train and Evaluate Model"
      ]
    },
    {
      "cell_type": "code",
      "execution_count": null,
      "metadata": {
        "colab": {
          "base_uri": "https://localhost:8080/"
        },
        "id": "3qkwmHdB_DKI",
        "outputId": "a3cc630b-418a-41c5-e280-a67dfde04747"
      },
      "outputs": [
        {
          "output_type": "stream",
          "name": "stdout",
          "text": [
            "############Train############\n",
            "Batch 1000 / 1252 \n",
            "Loss: 1.9 \n",
            "\n",
            "############Evaluate############\n",
            "\n",
            "-------Epoch  1 -------\n",
            "Training Loss: 2.9837419261661964 \n",
            "Validation Loss: 2.3359945119809145 \n",
            "Time:  1149.1964571475983 \n",
            "----------------------- \n",
            "\n",
            "\n",
            "############Train############\n",
            "Batch 1000 / 1252 \n",
            "Loss: 2.7 \n",
            "\n",
            "############Evaluate############\n",
            "\n",
            "-------Epoch  2 -------\n",
            "Training Loss: 1.6067465466622728 \n",
            "Validation Loss: 2.227753055519446 \n",
            "Time:  1148.8021550178528 \n",
            "----------------------- \n",
            "\n",
            "\n",
            "############Train############\n",
            "Batch 1000 / 1252 \n",
            "Loss: 1.6 \n",
            "\n",
            "############Evaluate############\n",
            "\n",
            "-------Epoch  3 -------\n",
            "Training Loss: 1.2346047011379617 \n",
            "Validation Loss: 2.3190724554902067 \n",
            "Time:  1148.4665215015411 \n",
            "----------------------- \n",
            "\n",
            "\n",
            "Total training and evaluation time:  3446.4690778255463\n"
          ]
        }
      ],
      "source": [
        "# Model Arguments: (Encodings, Attention Mask, Start token, End token)\n",
        "whole_train_eval_time = time.time()\n",
        "\n",
        "train_losses = []\n",
        "val_losses = []\n",
        "\n",
        "print_every = 1000\n",
        "\n",
        "for epoch in range(epochs):\n",
        "  epoch_time = time.time()\n",
        "\n",
        "  # Set model in train mode\n",
        "  model.train()\n",
        "\n",
        "  loss_of_epoch = 0\n",
        "\n",
        "  print(\"############Train############\")\n",
        "\n",
        "  for batch_idx,batch in enumerate(train_loader):\n",
        "\n",
        "    optim.zero_grad()\n",
        "\n",
        "    input_ids = batch['input_ids'].to(device)\n",
        "    attention_mask = batch['attention_mask'].to(device)\n",
        "    start_positions = batch['start_positions'].to(device)\n",
        "    end_positions = batch['end_positions'].to(device)\n",
        "\n",
        "    outputs = model(input_ids, attention_mask=attention_mask, start_positions=start_positions, end_positions=end_positions)\n",
        "    loss = outputs[0]\n",
        "    # do a backwards pass\n",
        "    loss.backward()\n",
        "    # update the weights\n",
        "    optim.step()\n",
        "    # Find the total loss\n",
        "    loss_of_epoch += loss.item()\n",
        "\n",
        "    if (batch_idx+1) % print_every == 0:\n",
        "      print(\"Batch {:} / {:}\".format(batch_idx+1,len(train_loader)),\"\\nLoss:\", round(loss.item(),1),\"\\n\")\n",
        "\n",
        "  loss_of_epoch /= len(train_loader)\n",
        "  train_losses.append(loss_of_epoch)\n",
        "\n",
        "  model.eval()\n",
        "\n",
        "  print(\"############Evaluate############\")\n",
        "\n",
        "  loss_of_epoch = 0\n",
        "\n",
        "  for batch_idx,batch in enumerate(val_loader):\n",
        "\n",
        "    with torch.no_grad():\n",
        "\n",
        "      input_ids = batch['input_ids'].to(device)\n",
        "      attention_mask = batch['attention_mask'].to(device)\n",
        "      start_positions = batch['start_positions'].to(device)\n",
        "      end_positions = batch['end_positions'].to(device)\n",
        "\n",
        "      outputs = model(input_ids, attention_mask=attention_mask, start_positions=start_positions, end_positions=end_positions)\n",
        "      loss = outputs[0]\n",
        "      # Find the total loss\n",
        "      loss_of_epoch += loss.item()\n",
        "\n",
        "    if (batch_idx+1) % print_every == 0:\n",
        "       print(\"Batch {:} / {:}\".format(batch_idx+1,len(val_loader)),\"\\nLoss:\", round(loss.item(),1),\"\\n\")\n",
        "\n",
        "  loss_of_epoch /= len(val_loader)\n",
        "  val_losses.append(loss_of_epoch)\n",
        "\n",
        "  print(\"\\n-------Epoch \", epoch+1,\n",
        "        \"-------\"\n",
        "        \"\\nTraining Loss:\", train_losses[-1],\n",
        "        \"\\nValidation Loss:\", val_losses[-1],\n",
        "        \"\\nTime: \",(time.time() - epoch_time),\n",
        "        \"\\n-----------------------\",\n",
        "        \"\\n\\n\")\n",
        "\n",
        "print(\"Total training and evaluation time: \", (time.time() - whole_train_eval_time))"
      ]
    },
    {
      "cell_type": "code",
      "execution_count": null,
      "metadata": {
        "id": "-p_ZgHMgR9Vq"
      },
      "outputs": [],
      "source": [
        "# Save model\n",
        "torch.save(model,\"/content/drive/MyDrive/Colab Notebooks/NLP/bertqa612\")"
      ]
    },
    {
      "cell_type": "markdown",
      "metadata": {
        "id": "41ZatksYHP_p"
      },
      "source": [
        "## ***Step 12:*** Plot train and validation losses"
      ]
    },
    {
      "cell_type": "code",
      "execution_count": null,
      "metadata": {
        "colab": {
          "base_uri": "https://localhost:8080/",
          "height": 828
        },
        "id": "Daxw8aQMHPTV",
        "outputId": "9b235360-2111-465b-dc63-448e7efa79cd"
      },
      "outputs": [
        {
          "output_type": "display_data",
          "data": {
            "text/plain": [
              "<Figure size 1500x1000 with 1 Axes>"
            ],
            "image/png": "[encoded data removed]"
          },
          "metadata": {}
        }
      ],
      "source": [
        "import matplotlib.pyplot as plt\n",
        "\n",
        "fig,ax = plt.subplots(1,1,figsize=(15,10))\n",
        "\n",
        "ax.set_title(\"Train and Validation Losses\",size=20)\n",
        "ax.set_ylabel('Loss', fontsize = 20)\n",
        "ax.set_xlabel('Epochs', fontsize = 25)\n",
        "_=ax.plot(train_losses)\n",
        "_=ax.plot(val_losses)\n",
        "_=ax.legend(('Train','Val'),loc='upper right')\n",
        "\n",
        "plt.savefig(\"/content/drive/MyDrive/Colab Notebooks/NLP/ft_qa6_10k\")"
      ]
    }
  ],
  "metadata": {
    "colab": {
      "provenance": [],
      "gpuType": "T4"
    },
    "kernelspec": {
      "display_name": "Python 3",
      "name": "python3"
    },
    "language_info": {
      "codemirror_mode": {
        "name": "ipython",
        "version": 3
      },
      "file_extension": ".py",
      "mimetype": "text/x-python",
      "name": "python",
      "nbconvert_exporter": "python",
      "pygments_lexer": "ipython3",
      "version": "3.9.13"
    },
    "accelerator": "GPU",
    "widgets": {
      "application/vnd.jupyter.widget-state+json": {
        "d496660b2d374cc49657227c85d063b9": {
          "model_module": "@jupyter-widgets/controls",
          "model_name": "HBoxModel",
          "model_module_version": "1.5.0",
          "state": {
            "_dom_classes": [],
            "_model_module": "@jupyter-widgets/controls",
            "_model_module_version": "1.5.0",
            "_model_name": "HBoxModel",
            "_view_count": null,
            "_view_module": "@jupyter-widgets/controls",
            "_view_module_version": "1.5.0",
            "_view_name": "HBoxView",
            "box_style": "",
            "children": [
              "IPY_MODEL_2e164270b8724eb9b48f960c449d59ba",
              "IPY_MODEL_e8c89ea62abf428096f50e8302c41e23",
              "IPY_MODEL_d3543bec09bf45fd9b217994a24835b7"
            ],
            "layout": "IPY_MODEL_fe45d171383a4780b9e819a96f4895c0"
          }
        },
        "2e164270b8724eb9b48f960c449d59ba": {
          "model_module": "@jupyter-widgets/controls",
          "model_name": "HTMLModel",
          "model_module_version": "1.5.0",
          "state": {
            "_dom_classes": [],
            "_model_module": "@jupyter-widgets/controls",
            "_model_module_version": "1.5.0",
            "_model_name": "HTMLModel",
            "_view_count": null,
            "_view_module": "@jupyter-widgets/controls",
            "_view_module_version": "1.5.0",
            "_view_name": "HTMLView",
            "description": "",
            "description_tooltip": null,
            "layout": "IPY_MODEL_b455a08ca542423f86bf22a845dbccce",
            "placeholder": "​",
            "style": "IPY_MODEL_9b1302dd25324b7d96bd6a7cc581b47a",
            "value": "model.safetensors: 100%"
          }
        },
        "e8c89ea62abf428096f50e8302c41e23": {
          "model_module": "@jupyter-widgets/controls",
          "model_name": "FloatProgressModel",
          "model_module_version": "1.5.0",
          "state": {
            "_dom_classes": [],
            "_model_module": "@jupyter-widgets/controls",
            "_model_module_version": "1.5.0",
            "_model_name": "FloatProgressModel",
            "_view_count": null,
            "_view_module": "@jupyter-widgets/controls",
            "_view_module_version": "1.5.0",
            "_view_name": "ProgressView",
            "bar_style": "success",
            "description": "",
            "description_tooltip": null,
            "layout": "IPY_MODEL_250f15b64da549e5937cc47e4033e20e",
            "max": 440449768,
            "min": 0,
            "orientation": "horizontal",
            "style": "IPY_MODEL_e11a7d2e5ef6405f9e56ec0d75cf3394",
            "value": 440449768
          }
        },
        "d3543bec09bf45fd9b217994a24835b7": {
          "model_module": "@jupyter-widgets/controls",
          "model_name": "HTMLModel",
          "model_module_version": "1.5.0",
          "state": {
            "_dom_classes": [],
            "_model_module": "@jupyter-widgets/controls",
            "_model_module_version": "1.5.0",
            "_model_name": "HTMLModel",
            "_view_count": null,
            "_view_module": "@jupyter-widgets/controls",
            "_view_module_version": "1.5.0",
            "_view_name": "HTMLView",
            "description": "",
            "description_tooltip": null,
            "layout": "IPY_MODEL_69e6dd14433e4cc5bae42bb0a82f24d6",
            "placeholder": "​",
            "style": "IPY_MODEL_3e72ce078c49417c8916e51c0468d8c5",
            "value": " 440M/440M [00:01&lt;00:00, 279MB/s]"
          }
        },
        "fe45d171383a4780b9e819a96f4895c0": {
          "model_module": "@jupyter-widgets/base",
          "model_name": "LayoutModel",
          "model_module_version": "1.2.0",
          "state": {
            "_model_module": "@jupyter-widgets/base",
            "_model_module_version": "1.2.0",
            "_model_name": "LayoutModel",
            "_view_count": null,
            "_view_module": "@jupyter-widgets/base",
            "_view_module_version": "1.2.0",
            "_view_name": "LayoutView",
            "align_content": null,
            "align_items": null,
            "align_self": null,
            "border": null,
            "bottom": null,
            "display": null,
            "flex": null,
            "flex_flow": null,
            "grid_area": null,
            "grid_auto_columns": null,
            "grid_auto_flow": null,
            "grid_auto_rows": null,
            "grid_column": null,
            "grid_gap": null,
            "grid_row": null,
            "grid_template_areas": null,
            "grid_template_columns": null,
            "grid_template_rows": null,
            "height": null,
            "justify_content": null,
            "justify_items": null,
            "left": null,
            "margin": null,
            "max_height": null,
            "max_width": null,
            "min_height": null,
            "min_width": null,
            "object_fit": null,
            "object_position": null,
            "order": null,
            "overflow": null,
            "overflow_x": null,
            "overflow_y": null,
            "padding": null,
            "right": null,
            "top": null,
            "visibility": null,
            "width": null
          }
        },
        "b455a08ca542423f86bf22a845dbccce": {
          "model_module": "@jupyter-widgets/base",
          "model_name": "LayoutModel",
          "model_module_version": "1.2.0",
          "state": {
            "_model_module": "@jupyter-widgets/base",
            "_model_module_version": "1.2.0",
            "_model_name": "LayoutModel",
            "_view_count": null,
            "_view_module": "@jupyter-widgets/base",
            "_view_module_version": "1.2.0",
            "_view_name": "LayoutView",
            "align_content": null,
            "align_items": null,
            "align_self": null,
            "border": null,
            "bottom": null,
            "display": null,
            "flex": null,
            "flex_flow": null,
            "grid_area": null,
            "grid_auto_columns": null,
            "grid_auto_flow": null,
            "grid_auto_rows": null,
            "grid_column": null,
            "grid_gap": null,
            "grid_row": null,
            "grid_template_areas": null,
            "grid_template_columns": null,
            "grid_template_rows": null,
            "height": null,
            "justify_content": null,
            "justify_items": null,
            "left": null,
            "margin": null,
            "max_height": null,
            "max_width": null,
            "min_height": null,
            "min_width": null,
            "object_fit": null,
            "object_position": null,
            "order": null,
            "overflow": null,
            "overflow_x": null,
            "overflow_y": null,
            "padding": null,
            "right": null,
            "top": null,
            "visibility": null,
            "width": null
          }
        },
        "9b1302dd25324b7d96bd6a7cc581b47a": {
          "model_module": "@jupyter-widgets/controls",
          "model_name": "DescriptionStyleModel",
          "model_module_version": "1.5.0",
          "state": {
            "_model_module": "@jupyter-widgets/controls",
            "_model_module_version": "1.5.0",
            "_model_name": "DescriptionStyleModel",
            "_view_count": null,
            "_view_module": "@jupyter-widgets/base",
            "_view_module_version": "1.2.0",
            "_view_name": "StyleView",
            "description_width": ""
          }
        },
        "250f15b64da549e5937cc47e4033e20e": {
          "model_module": "@jupyter-widgets/base",
          "model_name": "LayoutModel",
          "model_module_version": "1.2.0",
          "state": {
            "_model_module": "@jupyter-widgets/base",
            "_model_module_version": "1.2.0",
            "_model_name": "LayoutModel",
            "_view_count": null,
            "_view_module": "@jupyter-widgets/base",
            "_view_module_version": "1.2.0",
            "_view_name": "LayoutView",
            "align_content": null,
            "align_items": null,
            "align_self": null,
            "border": null,
            "bottom": null,
            "display": null,
            "flex": null,
            "flex_flow": null,
            "grid_area": null,
            "grid_auto_columns": null,
            "grid_auto_flow": null,
            "grid_auto_rows": null,
            "grid_column": null,
            "grid_gap": null,
            "grid_row": null,
            "grid_template_areas": null,
            "grid_template_columns": null,
            "grid_template_rows": null,
            "height": null,
            "justify_content": null,
            "justify_items": null,
            "left": null,
            "margin": null,
            "max_height": null,
            "max_width": null,
            "min_height": null,
            "min_width": null,
            "object_fit": null,
            "object_position": null,
            "order": null,
            "overflow": null,
            "overflow_x": null,
            "overflow_y": null,
            "padding": null,
            "right": null,
            "top": null,
            "visibility": null,
            "width": null
          }
        },
        "e11a7d2e5ef6405f9e56ec0d75cf3394": {
          "model_module": "@jupyter-widgets/controls",
          "model_name": "ProgressStyleModel",
          "model_module_version": "1.5.0",
          "state": {
            "_model_module": "@jupyter-widgets/controls",
            "_model_module_version": "1.5.0",
            "_model_name": "ProgressStyleModel",
            "_view_count": null,
            "_view_module": "@jupyter-widgets/base",
            "_view_module_version": "1.2.0",
            "_view_name": "StyleView",
            "bar_color": null,
            "description_width": ""
          }
        },
        "69e6dd14433e4cc5bae42bb0a82f24d6": {
          "model_module": "@jupyter-widgets/base",
          "model_name": "LayoutModel",
          "model_module_version": "1.2.0",
          "state": {
            "_model_module": "@jupyter-widgets/base",
            "_model_module_version": "1.2.0",
            "_model_name": "LayoutModel",
            "_view_count": null,
            "_view_module": "@jupyter-widgets/base",
            "_view_module_version": "1.2.0",
            "_view_name": "LayoutView",
            "align_content": null,
            "align_items": null,
            "align_self": null,
            "border": null,
            "bottom": null,
            "display": null,
            "flex": null,
            "flex_flow": null,
            "grid_area": null,
            "grid_auto_columns": null,
            "grid_auto_flow": null,
            "grid_auto_rows": null,
            "grid_column": null,
            "grid_gap": null,
            "grid_row": null,
            "grid_template_areas": null,
            "grid_template_columns": null,
            "grid_template_rows": null,
            "height": null,
            "justify_content": null,
            "justify_items": null,
            "left": null,
            "margin": null,
            "max_height": null,
            "max_width": null,
            "min_height": null,
            "min_width": null,
            "object_fit": null,
            "object_position": null,
            "order": null,
            "overflow": null,
            "overflow_x": null,
            "overflow_y": null,
            "padding": null,
            "right": null,
            "top": null,
            "visibility": null,
            "width": null
          }
        },
        "3e72ce078c49417c8916e51c0468d8c5": {
          "model_module": "@jupyter-widgets/controls",
          "model_name": "DescriptionStyleModel",
          "model_module_version": "1.5.0",
          "state": {
            "_model_module": "@jupyter-widgets/controls",
            "_model_module_version": "1.5.0",
            "_model_name": "DescriptionStyleModel",
            "_view_count": null,
            "_view_module": "@jupyter-widgets/base",
            "_view_module_version": "1.2.0",
            "_view_name": "StyleView",
            "description_width": ""
          }
        }
      }
    }
  },
  "nbformat": 4,
  "nbformat_minor": 0
}